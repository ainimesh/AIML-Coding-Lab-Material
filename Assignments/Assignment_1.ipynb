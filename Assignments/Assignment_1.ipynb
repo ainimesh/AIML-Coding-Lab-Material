{
 "cells": [
  {
   "cell_type": "markdown",
   "metadata": {},
   "source": [
    "# **<center> Assignment-1 </center>**\n",
    "\n",
    "## **<center> Instructions </center>**\n",
    "\n",
    "This Assignment is a coding assignemnt, which covers the following areas:\n",
    "1. Deep Learning  (Feed Forward Neural Network)\n",
    "2. Convolutional Neural Networks\n",
    "3. Recurrent Neural Networks\n",
    "4. LSTM (Long Short Term Memory)\n",
    "\n",
    "``Language to be used - Preferred: Python [or Any Language]``\n",
    "\n",
    "``Framework - Preferred: PyTorch [or Any Framework]``\n",
    "    \n",
    "###  **Submission Instructions**\n",
    "\n",
    "Please Submit the solution notebook with the name convention as **Assignment1_rollnumber_name.ipynb** or **Assignment1_rollnumber_name.py**."
   ]
  },
  {
   "cell_type": "markdown",
   "metadata": {},
   "source": [
    "## **Problem Statement-1**\n",
    "\n",
    "Given the <a href = \"https://pytorch.org/vision/main/generated/torchvision.datasets.FashionMNIST.html#torchvision.datasets.FashionMNIST\"> FashionMNIST Dataset </a>, which is similar to the MNIST dataset discussed in the class, and skeleton code where ever it's required you are to write the code for the following experiments and report the final metrics.\n",
    "\n",
    "### **Experiments**\n"
   ]
  },
  {
   "cell_type": "markdown",
   "metadata": {},
   "source": [
    "#### Performing Imports"
   ]
  },
  {
   "cell_type": "code",
   "execution_count": 7,
   "metadata": {},
   "outputs": [],
   "source": [
    "import numpy as np\n",
    "import torch\n",
    "import torch.nn as nn\n",
    "import torch.nn.functional as F          # adds some efficiency\n",
    "from torch.utils.data import DataLoader  # lets us load data in batches\n",
    "from torchvision import datasets, transforms\n",
    "from sklearn.metrics import confusion_matrix  # for evaluating results\n",
    "import matplotlib.pyplot as plt\n",
    "%matplotlib inline\n",
    "\n",
    "# dataset\n",
    "from torchvision.datasets import EMNIST, MNIST, FashionMNIST"
   ]
  },
  {
   "cell_type": "markdown",
   "metadata": {},
   "source": [
    "#### Loading the Data"
   ]
  },
  {
   "cell_type": "code",
   "execution_count": 25,
   "metadata": {},
   "outputs": [],
   "source": [
    "# train and test data\n",
    "\n",
    "train_data = datasets.FashionMNIST(root='./dataset', train=True, download=False, transform=transforms.ToTensor()) # do download = True if you have not downloaded it yet\n",
    "test_data = datasets.FashionMNIST(root='./dataset', train=False, download=False, transform=transforms.ToTensor()) # do download = True if you have not downloaded it yet"
   ]
  },
  {
   "cell_type": "markdown",
   "metadata": {},
   "source": [
    "#### **Experiment:1 [Not Graded]**\n",
    "\n",
    "Explore the dataset and visualize it.\n",
    "\n",
    "1. How many classes are there in the datset ?\n",
    "2. How input image looks ?\n",
    "3. What is the dimension of input data ?\n",
    "4. Do we need any kind of data preprocessing etc ?"
   ]
  },
  {
   "cell_type": "code",
   "execution_count": 27,
   "metadata": {},
   "outputs": [],
   "source": [
    "# Solution"
   ]
  },
  {
   "cell_type": "markdown",
   "metadata": {},
   "source": [
    "#### **Sudo code for 1 layer neural Network**"
   ]
  },
  {
   "cell_type": "code",
   "execution_count": null,
   "metadata": {},
   "outputs": [],
   "source": [
    "class SimpleNeuralNetwork(nn.Module):\n",
    "    def __inint__(self,input_size = 784, output_size = 10, layers =[120,10]):\n",
    "        super().__init__()\n",
    "        self.input_layer = nn.Linear(input_size,layers[0])\n",
    "        self.output_layer = nn.Linear(layers[0], layers[1])\n",
    "\n",
    "    def forward(self,X):\n",
    "        X = F.relu(self.input_layer(X))\n",
    "        X = self.output_layer(X)\n",
    "        return F.log_softmax(X, dim=1)"
   ]
  },
  {
   "cell_type": "markdown",
   "metadata": {},
   "source": [
    "#### **Experiment:2 [Graded]**\n",
    "\n",
    "***Design three models with the names***\n",
    "\n",
    "1. ``SimpleNeuralNetwork1``: [784-256-128-10]\n",
    "2. ``SimpleNeuralNetwork2``: [784-203-203-203-10]\n",
    "3. ``SimpleNeuralNetwork3``: [784-512-256-125-75-10]"
   ]
  },
  {
   "cell_type": "code",
   "execution_count": 30,
   "metadata": {},
   "outputs": [],
   "source": [
    "# Solution:"
   ]
  },
  {
   "cell_type": "markdown",
   "metadata": {},
   "source": [
    "#### **Experiment:3 [Graded]**\n",
    "\n",
    "***Perform the Training for each of the models by keeping the parameters as:***\n",
    "\n",
    "**``Condition-1``**\n",
    "1. ```Optimizer - ADAM; Batch Size = 64```\n",
    "\n",
    "For this do the experiments using these various learning Rates:\n",
    "\n",
    "take Learning rates as:\n",
    "\n",
    "a. 0.001\n",
    "\n",
    "b. 0.01\n",
    "\n",
    "c. 0.1\n",
    "\n",
    "**``Condition-2``**\n",
    "\n",
    "2. ```Optimizer - SGD with momentum as 0.9; Batch Size = 64```\n",
    "\n",
    "For this do the experiments using these various learning Rates:\n",
    "\n",
    "take Learning rates as:\n",
    "\n",
    "a. 0.001\n",
    "\n",
    "b. 0.01\n",
    "\n",
    "c. 0.1\n"
   ]
  },
  {
   "cell_type": "code",
   "execution_count": 31,
   "metadata": {},
   "outputs": [],
   "source": [
    "# Solution"
   ]
  },
  {
   "cell_type": "markdown",
   "metadata": {},
   "source": [
    "#### **Experiment:4 [Graded]**\n",
    "\n",
    "***Run all the models for 200 Epochs and report the following***\n",
    "\n",
    "**For all three models run experiments for condition:1 and condition:2**\n",
    "\n",
    "Report the test accuracy in table form for all the models.\n",
    "\n",
    "Pot the training loss vs epoch graph for all the learning rates"
   ]
  },
  {
   "cell_type": "code",
   "execution_count": 32,
   "metadata": {},
   "outputs": [],
   "source": [
    "# solution"
   ]
  },
  {
   "cell_type": "code",
   "execution_count": null,
   "metadata": {},
   "outputs": [],
   "source": []
  },
  {
   "cell_type": "markdown",
   "metadata": {},
   "source": [
    "## **Problem Statement-2**"
   ]
  },
  {
   "cell_type": "markdown",
   "metadata": {},
   "source": []
  }
 ],
 "metadata": {
  "kernelspec": {
   "display_name": "ainimesh",
   "language": "python",
   "name": "python3"
  },
  "language_info": {
   "codemirror_mode": {
    "name": "ipython",
    "version": 3
   },
   "file_extension": ".py",
   "mimetype": "text/x-python",
   "name": "python",
   "nbconvert_exporter": "python",
   "pygments_lexer": "ipython3",
   "version": "3.11.8"
  }
 },
 "nbformat": 4,
 "nbformat_minor": 2
}
