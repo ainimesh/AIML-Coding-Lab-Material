{
  "cells": [
    {
      "cell_type": "markdown",
      "metadata": {
        "id": "nz6E4hCkhFNF"
      },
      "source": [
        "## <font color='cyan'>**Recurrent Neural Networks - why and where to use?**</font>\n",
        "\n",
        "Neural network types like **fully connected networks or convolutional neural networks are good at identifying patterns in data but they do not have a memory.** They treat each example of data and parts of the example as independent of each other. They can not maintain any state/memory about previously seen examples. This kind of behavior is good as long as each example like images is independent of each other.\n",
        "\n",
        "But there are situations where remembering state information about previously seen examples can help get better results. **Let's say for the natural language processing task of text generation, if our network can remember some state information about words seen, then it can help to generate new better words as it now knows about the context of the sentence.** This kind of approach can help with time-series data as well where new prediction is generally dependent on the last few text examples.\n",
        "\n",
        "To solve the problem of maintaining memory, Recurrent neural networks (RNN) were introduced. Recurrent neural networks maintain the state of the data examples and use it to improve results.\n",
        "\n",
        "Pytorch rnn layers ---->\n",
        "nn.RNN(input_size=embed_len, hidden_size=hidden_dim, num_layers=n_layers, batch_first=True)\n",
        "\n",
        "https://pytorch.org/docs/stable/generated/torch.nn.RNN.html"
      ]
    },
    {
      "cell_type": "markdown",
      "metadata": {
        "id": "Hcvr13QXgk7r"
      },
      "source": [
        "## <font color='cyan'>**Contents**</font>\n",
        "\n",
        "### **1. Populate Vocabulary**\n",
        "1.1 Load Dataset\n",
        "\n",
        "1.2 Create Tokenizer And Create Vocab\n",
        "\n",
        "### **2. RNN for Text Classification (Tokens Per Text Example=25, Embeddings Length=50)**\n",
        "2.1 Create Data Loaders\n",
        "\n",
        "2.2 Define RNN Layers\n",
        "\n",
        "2.3 Train Network\n",
        "\n",
        "2.4 Evaluate Network Performance\n"
      ]
    },
    {
      "cell_type": "code",
      "execution_count": null,
      "metadata": {
        "id": "OulAwsCiAeBk"
      },
      "outputs": [],
      "source": [
        "!pip -q install portalocker"
      ]
    },
    {
      "cell_type": "markdown",
      "metadata": {
        "id": "pN9hBZrk933H"
      },
      "source": [
        "torchtext --- > The torchtext package consists of data processing utilities and popular datasets for natural language.\n",
        "\n",
        "https://pytorch.org/text/stable/index.html"
      ]
    },
    {
      "cell_type": "code",
      "execution_count": null,
      "metadata": {
        "id": "hX46CddHLJdu"
      },
      "outputs": [],
      "source": [
        "import torch\n",
        "from torch.utils.data import DataLoader\n",
        "# Dataset stores the samples and their corresponding labels, and DataLoader wraps an iterable around the Dataset to enable easy access to the samples.\n",
        "\n",
        "import torchtext\n",
        "from torchtext import datasets\n",
        "from torchtext.data import get_tokenizer\n",
        "from torchtext.vocab import build_vocab_from_iterator\n",
        "from torchtext.data.functional import to_map_style_dataset"
      ]
    },
    {
      "cell_type": "markdown",
      "metadata": {
        "id": "2LNNIfm-A2Ii"
      },
      "source": [
        "## <font color='cyan'>**Load Dataset**</font>\n",
        "\n",
        "We are loading AG NEWS dataset from datasets sub-module of torchtext library. The dataset is already divided into the train (120000 text examples) and test (7600 text examples) sets.\n",
        "\n",
        "https://pytorch.org/text/0.11.0/datasets.html"
      ]
    },
    {
      "cell_type": "code",
      "execution_count": null,
      "metadata": {
        "id": "uOUMyVJaM8_B"
      },
      "outputs": [],
      "source": [
        "train_dataset, test_dataset = torchtext.datasets.AG_NEWS(root='.data', split=('train', 'test'))"
      ]
    },
    {
      "cell_type": "code",
      "execution_count": null,
      "metadata": {
        "colab": {
          "base_uri": "https://localhost:8080/"
        },
        "id": "AqNs80ytkbfV",
        "outputId": "c02ff13c-648b-4720-c880-8126e9281a0f"
      },
      "outputs": [
        {
          "data": {
            "text/plain": [
              "ShardingFilterIterDataPipe"
            ]
          },
          "execution_count": 4,
          "metadata": {},
          "output_type": "execute_result"
        }
      ],
      "source": [
        "train_dataset"
      ]
    },
    {
      "cell_type": "code",
      "execution_count": null,
      "metadata": {
        "id": "hq16Q_wHr9jl"
      },
      "outputs": [],
      "source": [
        "# Convert iterable-style dataset to map-style dataset - https://pytorch.org/text/stable/data_functional.html#to-map-style-dataset\n",
        "\n",
        "# train_dataset, test_dataset = to_map_style_dataset(train_dataset), to_map_style_dataset(test_dataset)\n",
        "# print(train_dataset[0])\n",
        "\n",
        "# train_loader = DataLoader(train_dataset, batch_size=16, shuffle=False)\n",
        "\n",
        "# for batch in train_loader:\n",
        "#     labels, texts =batch[0], batch[1]\n",
        "#     print(labels)\n",
        "#     print(texts)\n",
        "#     break"
      ]
    },
    {
      "cell_type": "markdown",
      "metadata": {
        "id": "Ir-sClwIBlpi"
      },
      "source": [
        "## <font color='cyan'>**Populate Vocabulary**</font>\n",
        "\n",
        "We have first defined a simple tokenizer using **get_tokenizer()** function available from data sub-module of torchtext library. The tokenizer is a function that takes a text example as input and returns a list of tokens of that text example. The tokens are general words of the text but they can also be punctuation marks and special symbols.\n",
        "\n",
        "After defining tokenizer, we have created a vocabulary using **build_vocab_from_iterator()** function available from vocab sub-module of torchtext library. The function takes an iterator as input that returns a list of tokens on each call. We have created a simple iterator function named **build_vocabulary()** which takes datasets as input. It then loops through each dataset and text examples from each dataset, yielding a list of tokens for each text example using a tokenizer. The **special character <UNK>** will be kept at the 0th index and all tokens not present in the dictionary will be mapped to this token.\n",
        "\n",
        "In the next cells after the below cell, we have printed the length of vocabulary and explained how we can convert text examples to a list of indexes using tokenizer and vocabulary. This list of integers (indexes of tokens/words as per vocabulary) will be given as input to the neural network which will generate embeddings for them."
      ]
    },
    {
      "cell_type": "code",
      "execution_count": null,
      "metadata": {
        "id": "NkzwayaHND4T"
      },
      "outputs": [],
      "source": [
        "tokenizer = get_tokenizer(\"basic_english\")\n",
        "\n",
        "def build_vocabulary(datasets):\n",
        "    for dataset in datasets:\n",
        "        for _, text in dataset:\n",
        "            yield tokenizer(text)\n",
        "\n",
        "vocab = build_vocab_from_iterator(build_vocabulary([train_dataset, test_dataset]), min_freq=1, specials=[\"<UNK>\"])\n",
        "vocab.set_default_index(vocab[\"<UNK>\"])"
      ]
    },
    {
      "cell_type": "code",
      "execution_count": null,
      "metadata": {
        "colab": {
          "base_uri": "https://localhost:8080/"
        },
        "id": "RotkZYEgNVty",
        "outputId": "74c7c70e-0095-4c67-da11-2974e333ecd6"
      },
      "outputs": [
        {
          "data": {
            "text/plain": [
              "98635"
            ]
          },
          "execution_count": 7,
          "metadata": {},
          "output_type": "execute_result"
        }
      ],
      "source": [
        "len(vocab)"
      ]
    },
    {
      "cell_type": "code",
      "execution_count": null,
      "metadata": {
        "colab": {
          "base_uri": "https://localhost:8080/"
        },
        "id": "gMRD1FZeONqB",
        "outputId": "8f488f56-7338-4e38-ceb2-e3160fd96492"
      },
      "outputs": [
        {
          "data": {
            "text/plain": [
              "(['hello',\n",
              "  'how',\n",
              "  'are',\n",
              "  'you',\n",
              "  '?',\n",
              "  ',',\n",
              "  'welcome',\n",
              "  'to',\n",
              "  'coderzcolumn',\n",
              "  '!',\n",
              "  '!'],\n",
              " [12388, 355, 42, 164, 80, 3, 3298, 4, 0, 747, 747])"
            ]
          },
          "execution_count": 8,
          "metadata": {},
          "output_type": "execute_result"
        }
      ],
      "source": [
        "tokens = tokenizer(\"Hello how are you?, Welcome to CoderzColumn!!\")\n",
        "indexes = vocab(tokens)\n",
        "\n",
        "tokens, indexes"
      ]
    },
    {
      "cell_type": "code",
      "execution_count": null,
      "metadata": {
        "colab": {
          "base_uri": "https://localhost:8080/"
        },
        "id": "tdbCuEtqOQrX",
        "outputId": "02f0fc60-2d36-4b7f-8cc4-f4f38dfb99a9"
      },
      "outputs": [
        {
          "data": {
            "text/plain": [
              "0"
            ]
          },
          "execution_count": 9,
          "metadata": {},
          "output_type": "execute_result"
        }
      ],
      "source": [
        "vocab[\"<UNK>\"]"
      ]
    },
    {
      "cell_type": "markdown",
      "metadata": {
        "id": "HPd1FjGBC39r"
      },
      "source": [
        "## <font color='cyan'>**Create Data Loaders**</font>\n",
        "\n",
        "Below, we have **loaded AG NEWS dataset again and created data loaders** from it that will be used during training to loop through data in batches. We have created train and test data loaders that return a **batch of 1024 examples** and their respective target labels for each call. We have created a simple vectorization function **(vectorize_batch())** that will be used to vectorize text examples of a batch of data. For each batch, it'll **tokenize text examples using a tokenizer, generates indexes using vocabulary, and return indexes as torch tensors along with target labels.** We have set the **maximum token size to 25 which keeps 25 tokens per text example.** For examples with more than 25 tokens, extra tokens will be truncated and for examples with less than 25 tokens, they will be padded with 0s (<UNK> token). The function also subtracts 1 from target labels because labels are in the range 1-4 in data and we want them in the range 0-3 for our convenience. The vectorization function is given to collate_fn parameters of both data loaders."
      ]
    },
    {
      "cell_type": "code",
      "execution_count": null,
      "metadata": {
        "id": "3_4D2UBpOXCf"
      },
      "outputs": [],
      "source": [
        "# train_dataset, test_dataset  = torchtext.datasets.AG_NEWS()\n",
        "train_dataset, test_dataset  = to_map_style_dataset(train_dataset), to_map_style_dataset(test_dataset)\n",
        "\n",
        "target_classes = [\"World\", \"Sports\", \"Business\", \"Sci/Tech\"]\n",
        "\n",
        "max_words = 25\n",
        "\n",
        "def vectorize_batch(batch):\n",
        "    Y, X = list(zip(*batch))\n",
        "    X = [vocab(tokenizer(text)) for text in X]\n",
        "    X = [tokens+([0]* (max_words-len(tokens))) if len(tokens)<max_words else tokens[:max_words] for tokens in X] ## Bringing all samples to max_words length.\n",
        "\n",
        "    return torch.tensor(X, dtype=torch.int32), torch.tensor(Y) - 1 ## We have deducted 1 from target names to get them in range [0,1,2,3] from [1,2,3,4]\n",
        "\n",
        "\n",
        "train_loader = DataLoader(train_dataset, batch_size=1024, collate_fn=vectorize_batch, shuffle=True)\n",
        "test_loader  = DataLoader(test_dataset , batch_size=1024, collate_fn=vectorize_batch)"
      ]
    },
    {
      "cell_type": "code",
      "execution_count": null,
      "metadata": {
        "colab": {
          "base_uri": "https://localhost:8080/"
        },
        "id": "oROzGnKjOb5Q",
        "outputId": "633583ae-d8d1-4ce8-8c8b-33dddec76eef"
      },
      "outputs": [
        {
          "name": "stdout",
          "output_type": "stream",
          "text": [
            "torch.Size([1024, 25]) torch.Size([1024])\n"
          ]
        }
      ],
      "source": [
        "for X, Y in train_loader:\n",
        "    print(X.shape, Y.shape)\n",
        "    break"
      ]
    },
    {
      "cell_type": "markdown",
      "metadata": {
        "id": "UK98sk3QE2Xl"
      },
      "source": [
        "## <font color='cyan'>**RNN Layers**</font>\n",
        "\n",
        "In this section, we have created a **neural network** that we'll be using for the **text classification task**. The network consists of 3 layers - **Embeddings layer, RNN layer and Linear layer**\n",
        "\n",
        "The **embedding layer** has word embeddings for each token/word of our dictionary. We have set an embedding length of 50 for our example. This means that the embedding layer will have the weight of shape (len_vocab, 50). It has an embedding vector of length 50 for each token of our vocabulary. The embedding layer simply maps input indexes to a list of embeddings. Our data loaders will be returning indexes for tokens of text examples which will be given to the embedding layer as input which will convert indexes to embeddings. These embeddings will be updated during training to better classify documents. The input of the embedding layer will be of shape (batch_size, 25) and the output will be (batch_size, 25, 50), The batch size in our case is 1024.\n",
        "\n",
        "The **RNN layer** will take input from embedding layer of shape (batch_size, max_tokens, embedding_length) = (batch_size, 25, 50), perform it's operations and return an output of shape (batch_size, max_tokens, hidden_size) = (batch_size, 25, 50). In our case, the output shape of RNN layer is 50. If for example the hidden size of a recurrent layer is set at 75 then output from the recurrent layer will be of shape (batch_size, 25, 75). The recurrent layer loops through embeddings of tokens for each text example and generates output that has some knowledge about the context of the text documents. When calling the recurrent layer in the forward pass, we need to provide initial state detail to it which we have provided as random numbers. An initial state is needed for each text example. If we don't provide it then PyTorch generates a tensor of zeros internally. In our case, we have provided random numbers of shape (1, batch_size, 50) which means for each text example we have provided a real-valued vector of length 50 as an initial state.\n",
        "\n",
        "We can create recurrent layer using RNN() constructor available from 'nn' sub-module of torch library. We need to provide input shape and hidden dimension size to the constructor. We can create multiple RNN layers by providing an integer value greater than 1 to num_layers parameter. By default, the output shape of RNN layer will be (25, batch_size, 50) but we have converted it to (batch_size, 25, 50) by setting batch_first parameter to True.\n",
        "\n",
        "The output of RNN will be given to the **linear layer** which has 4 output units (same as a number of target classes). We have given the last output of each example (output[:,-1]) in our case to the linear layer because the RNN layer generates output for each 25 tokens of the text example. We only need to give the last output of each example to be given as input to the linear layer as according to the concept of RNN, it has information about all previous tokens. So, even though the output of RNN layer is of shape (batch_size, 25, 50), the input to the linear layer will be (batch_size, 50) because we'll take the last entry from 25 entries for each example."
      ]
    },
    {
      "cell_type": "code",
      "execution_count": null,
      "metadata": {
        "id": "QIfuLEdXOiWO"
      },
      "outputs": [],
      "source": [
        "from torch import nn\n",
        "from torch.nn import functional as F\n",
        "\n",
        "embed_len = 50\n",
        "hidden_dim = 50\n",
        "n_layers= 1\n",
        "\n",
        "class RNNClassifier(nn.Module):\n",
        "    def __init__(self):\n",
        "        super(RNNClassifier, self).__init__()\n",
        "        self.embedding_layer = nn.Embedding(num_embeddings=len(vocab), embedding_dim=embed_len)\n",
        "        self.rnn = nn.RNN(input_size=embed_len, hidden_size=hidden_dim, num_layers=n_layers, batch_first=True)\n",
        "        self.linear = nn.Linear(hidden_dim, len(target_classes))\n",
        "\n",
        "    def forward(self, X_batch):\n",
        "        embeddings = self.embedding_layer(X_batch)\n",
        "        output, hidden = self.rnn(embeddings, torch.randn(n_layers, len(X_batch), hidden_dim))\n",
        "        return self.linear(output[:,-1])"
      ]
    },
    {
      "cell_type": "code",
      "execution_count": null,
      "metadata": {
        "colab": {
          "base_uri": "https://localhost:8080/"
        },
        "id": "1u4g5aJzOpBz",
        "outputId": "dacd8425-f2ae-4bba-b9d3-e46eb627469b"
      },
      "outputs": [
        {
          "data": {
            "text/plain": [
              "RNNClassifier(\n",
              "  (embedding_layer): Embedding(98635, 50)\n",
              "  (rnn): RNN(50, 50, batch_first=True)\n",
              "  (linear): Linear(in_features=50, out_features=4, bias=True)\n",
              ")"
            ]
          },
          "execution_count": 13,
          "metadata": {},
          "output_type": "execute_result"
        }
      ],
      "source": [
        "rnn_classifier = RNNClassifier()\n",
        "rnn_classifier"
      ]
    },
    {
      "cell_type": "code",
      "execution_count": null,
      "metadata": {
        "colab": {
          "base_uri": "https://localhost:8080/"
        },
        "id": "bAWxBslVOs9m",
        "outputId": "e1205880-5d85-4942-97e5-7ea058c7b775"
      },
      "outputs": [
        {
          "name": "stdout",
          "output_type": "stream",
          "text": [
            "Layer : Embedding(98635, 50)\n",
            "Parameters : \n",
            "torch.Size([98635, 50])\n",
            "\n",
            "Layer : RNN(50, 50, batch_first=True)\n",
            "Parameters : \n",
            "torch.Size([50, 50])\n",
            "torch.Size([50, 50])\n",
            "torch.Size([50])\n",
            "torch.Size([50])\n",
            "\n",
            "Layer : Linear(in_features=50, out_features=4, bias=True)\n",
            "Parameters : \n",
            "torch.Size([4, 50])\n",
            "torch.Size([4])\n",
            "\n"
          ]
        }
      ],
      "source": [
        "for layer in rnn_classifier.children():\n",
        "    print(\"Layer : {}\".format(layer))\n",
        "    print(\"Parameters : \")\n",
        "    for param in layer.parameters():\n",
        "        print(param.shape)\n",
        "    print()"
      ]
    },
    {
      "cell_type": "code",
      "execution_count": null,
      "metadata": {
        "colab": {
          "base_uri": "https://localhost:8080/"
        },
        "id": "XCHI4ctfOyPu",
        "outputId": "ec66bb8f-809d-49ba-b08a-ee7cfb3e1be8"
      },
      "outputs": [
        {
          "data": {
            "text/plain": [
              "torch.Size([1024, 4])"
            ]
          },
          "execution_count": 15,
          "metadata": {},
          "output_type": "execute_result"
        }
      ],
      "source": [
        "# out = rnn_classifier(torch.randint(0, len(vocab), (1024, max_words)))\n",
        "# out.shape"
      ]
    },
    {
      "cell_type": "markdown",
      "metadata": {
        "id": "z5Mh-GezHrPk"
      },
      "source": [
        "## <font color='cyan'>**RNN Training**</font>\n",
        "\n",
        "we are training our network using data loaders. We have created a helper function for the training network. The function takes **model, loss function, optimizer, train data loader, validation data loader, and a number of epochs as input.** It then performs a training loop number of epochs times. For each epoch, it loops through training data in batches using a train data loader. For each batch of data, it performs a forward pass to make predictions, calculates loss value (using predictions and actual target labels), calculates gradients, and updates network parameters using gradients. It also records the loss value for each batch and prints the average loss at the end of each epoch. We have also created another helper function that loops through the validation data loader and calculates validation accuracy and loss."
      ]
    },
    {
      "cell_type": "code",
      "execution_count": null,
      "metadata": {
        "id": "eM3tUHliO3hx"
      },
      "outputs": [],
      "source": [
        "from tqdm import tqdm\n",
        "from sklearn.metrics import accuracy_score\n",
        "import gc\n",
        "\n",
        "def CalcValLossAndAccuracy(model, loss_fn, val_loader):\n",
        "    with torch.no_grad():\n",
        "        Y_shuffled, Y_preds, losses = [],[],[]\n",
        "        for X, Y in val_loader:\n",
        "            preds = model(X)\n",
        "            loss = loss_fn(preds, Y)\n",
        "            losses.append(loss.item())\n",
        "\n",
        "            Y_shuffled.append(Y)\n",
        "            Y_preds.append(preds.argmax(dim=-1))\n",
        "\n",
        "        Y_shuffled = torch.cat(Y_shuffled)\n",
        "        Y_preds = torch.cat(Y_preds)\n",
        "\n",
        "        print(\"Valid Loss : {:.3f}\".format(torch.tensor(losses).mean()))\n",
        "        print(\"Valid Acc  : {:.3f}\".format(accuracy_score(Y_shuffled.detach().numpy(), Y_preds.detach().numpy())))\n",
        "\n",
        "\n",
        "def TrainModel(model, loss_fn, optimizer, train_loader, val_loader, epochs=10):\n",
        "    for i in range(1, epochs+1):\n",
        "        losses = []\n",
        "        for X, Y in tqdm(train_loader):\n",
        "            Y_preds = model(X)\n",
        "\n",
        "            loss = loss_fn(Y_preds, Y)\n",
        "            losses.append(loss.item())\n",
        "\n",
        "            optimizer.zero_grad()\n",
        "            loss.backward()\n",
        "            optimizer.step()\n",
        "\n",
        "        print(\"Train Loss : {:.3f}\".format(torch.tensor(losses).mean()))\n",
        "        CalcValLossAndAccuracy(model, loss_fn, val_loader)"
      ]
    },
    {
      "cell_type": "markdown",
      "metadata": {
        "id": "GVczsMiYIQS5"
      },
      "source": [
        "Below, we have initialized the necessary parameters and trained our network using a function defined in the previous cell. We have initialized a number of epochs to 15 and the learning rate to 0.001. Then, we have initialized the loss function, our classification network, and Adam optimizer. At last, we have called our training routine with the necessary parameters to perform training. We can notice from the loss and accuracy value getting printed after each epoch that our model is doing a good job at the text classification task."
      ]
    },
    {
      "cell_type": "code",
      "execution_count": null,
      "metadata": {
        "colab": {
          "base_uri": "https://localhost:8080/"
        },
        "id": "3In4esLtO_si",
        "outputId": "3ebd401b-20a5-486e-ee88-64b582e1f9af"
      },
      "outputs": [
        {
          "name": "stderr",
          "output_type": "stream",
          "text": [
            "100%|██████████| 118/118 [00:10<00:00, 11.25it/s]\n"
          ]
        },
        {
          "name": "stdout",
          "output_type": "stream",
          "text": [
            "Train Loss : 1.349\n",
            "Valid Loss : 1.214\n",
            "Valid Acc  : 0.462\n"
          ]
        },
        {
          "name": "stderr",
          "output_type": "stream",
          "text": [
            "100%|██████████| 118/118 [00:08<00:00, 13.94it/s]\n"
          ]
        },
        {
          "name": "stdout",
          "output_type": "stream",
          "text": [
            "Train Loss : 0.980\n",
            "Valid Loss : 0.800\n",
            "Valid Acc  : 0.686\n"
          ]
        },
        {
          "name": "stderr",
          "output_type": "stream",
          "text": [
            "100%|██████████| 118/118 [00:08<00:00, 14.19it/s]\n"
          ]
        },
        {
          "name": "stdout",
          "output_type": "stream",
          "text": [
            "Train Loss : 0.683\n",
            "Valid Loss : 0.630\n",
            "Valid Acc  : 0.764\n"
          ]
        },
        {
          "name": "stderr",
          "output_type": "stream",
          "text": [
            "100%|██████████| 118/118 [00:08<00:00, 13.68it/s]\n"
          ]
        },
        {
          "name": "stdout",
          "output_type": "stream",
          "text": [
            "Train Loss : 0.545\n",
            "Valid Loss : 0.545\n",
            "Valid Acc  : 0.807\n"
          ]
        },
        {
          "name": "stderr",
          "output_type": "stream",
          "text": [
            "100%|██████████| 118/118 [00:08<00:00, 13.63it/s]\n"
          ]
        },
        {
          "name": "stdout",
          "output_type": "stream",
          "text": [
            "Train Loss : 0.465\n",
            "Valid Loss : 0.497\n",
            "Valid Acc  : 0.827\n"
          ]
        }
      ],
      "source": [
        "from torch.optim import Adam\n",
        "\n",
        "epochs = 5\n",
        "learning_rate = 1e-3\n",
        "\n",
        "loss_fn = nn.CrossEntropyLoss()\n",
        "rnn_classifier = RNNClassifier()\n",
        "optimizer = Adam(rnn_classifier.parameters(), lr=learning_rate)\n",
        "\n",
        "TrainModel(rnn_classifier, loss_fn, optimizer, train_loader, test_loader, epochs)"
      ]
    },
    {
      "cell_type": "markdown",
      "metadata": {
        "id": "VJ5AtyL7IvK9"
      },
      "source": [
        "## <font color='cyan'>**Evaluate Network Performance**</font>\n",
        "\n",
        "In this section, we have evaluated the performance of our network by calculating **accuracy, classification report** (precision, recall, and f1-score per target class) and **confusion matrix metrics** on test predictions. We can notice from the accuracy that our model has done a decent job at classifying text documents of the test dataset."
      ]
    },
    {
      "cell_type": "code",
      "execution_count": null,
      "metadata": {
        "id": "AI0JERj2PGOD"
      },
      "outputs": [],
      "source": [
        "def MakePredictions(model, loader):\n",
        "    Y_shuffled, Y_preds = [], []\n",
        "    for X, Y in loader:\n",
        "        preds = model(X)\n",
        "        Y_preds.append(preds)\n",
        "        Y_shuffled.append(Y)\n",
        "    gc.collect()\n",
        "    Y_preds, Y_shuffled = torch.cat(Y_preds), torch.cat(Y_shuffled)\n",
        "\n",
        "    return Y_shuffled.detach().numpy(), F.softmax(Y_preds, dim=-1).argmax(dim=-1).detach().numpy()\n",
        "\n",
        "Y_actual, Y_preds = MakePredictions(rnn_classifier, test_loader)"
      ]
    },
    {
      "cell_type": "code",
      "execution_count": null,
      "metadata": {
        "colab": {
          "base_uri": "https://localhost:8080/"
        },
        "id": "ulb-biPLPRzA",
        "outputId": "642f2ba1-030e-41b3-cedf-561eb8282caf"
      },
      "outputs": [
        {
          "name": "stdout",
          "output_type": "stream",
          "text": [
            "Test Accuracy : 0.8257894736842105\n",
            "\n",
            "Classification Report : \n",
            "              precision    recall  f1-score   support\n",
            "\n",
            "       World      0.824     0.855     0.839      1900\n",
            "      Sports      0.895     0.919     0.907      1900\n",
            "    Business      0.782     0.793     0.788      1900\n",
            "    Sci/Tech      0.799     0.736     0.766      1900\n",
            "\n",
            "    accuracy                          0.826      7600\n",
            "   macro avg      0.825     0.826     0.825      7600\n",
            "weighted avg      0.825     0.826     0.825      7600\n",
            "\n",
            "\n",
            "Confusion Matrix : \n",
            "[[1624   94  101   81]\n",
            " [  80 1747   30   43]\n",
            " [ 122   44 1507  227]\n",
            " [ 146   68  288 1398]]\n"
          ]
        }
      ],
      "source": [
        "from sklearn.metrics import accuracy_score, classification_report, confusion_matrix\n",
        "\n",
        "print(\"Test Accuracy : {}\".format(accuracy_score(Y_actual, Y_preds)))\n",
        "print(\"\\nClassification Report : \")\n",
        "print(classification_report(Y_actual, Y_preds, target_names=target_classes, digits=3))\n",
        "print(\"\\nConfusion Matrix : \")\n",
        "print(confusion_matrix(Y_actual, Y_preds))"
      ]
    },
    {
      "cell_type": "code",
      "execution_count": null,
      "metadata": {
        "id": "kloPniLOQ5Fs"
      },
      "outputs": [],
      "source": [
        "!pip -q install scikit-plot"
      ]
    },
    {
      "cell_type": "code",
      "execution_count": null,
      "metadata": {
        "colab": {
          "base_uri": "https://localhost:8080/",
          "height": 474
        },
        "id": "-ALB3x3GPW60",
        "outputId": "5ebd1f29-8bd8-4548-b375-7681393eeebf"
      },
      "outputs": [
        {
          "data": {
            "image/png": "[encoded data removed]",
            "text/plain": [
              "<Figure size 500x500 with 2 Axes>"
            ]
          },
          "metadata": {},
          "output_type": "display_data"
        }
      ],
      "source": [
        "from sklearn.metrics import confusion_matrix\n",
        "import scikitplot as skplt\n",
        "import matplotlib.pyplot as plt\n",
        "import numpy as np\n",
        "\n",
        "skplt.metrics.plot_confusion_matrix([target_classes[i] for i in Y_actual], [target_classes[i] for i in Y_preds],\n",
        "                                    normalize=True,\n",
        "                                    title=\"Confusion Matrix\",\n",
        "                                    cmap=\"Purples\",\n",
        "                                    hide_zeros=True,\n",
        "                                    figsize=(5,5)\n",
        "                                    );\n",
        "plt.xticks(rotation=90);"
      ]
    },
    {
      "cell_type": "code",
      "execution_count": null,
      "metadata": {
        "id": "28hacCkJPb3O"
      },
      "outputs": [],
      "source": []
    }
  ],
  "metadata": {
    "accelerator": "GPU",
    "colab": {
      "gpuType": "T4",
      "machine_shape": "hm",
      "provenance": []
    },
    "kernelspec": {
      "display_name": "Python 3",
      "name": "python3"
    },
    "language_info": {
      "name": "python"
    }
  },
  "nbformat": 4,
  "nbformat_minor": 0
}
