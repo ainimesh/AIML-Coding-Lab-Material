{
  "nbformat": 4,
  "nbformat_minor": 0,
  "metadata": {
    "colab": {
      "provenance": []
    },
    "kernelspec": {
      "name": "python3",
      "display_name": "Python 3"
    },
    "language_info": {
      "name": "python"
    },
    "gpuClass": "standard",
    "accelerator": "GPU",
    "widgets": {
      "application/vnd.jupyter.widget-state+json": {
        "e3856e38fc0a43dd9838198581e9b84b": {
          "model_module": "@jupyter-widgets/controls",
          "model_name": "HBoxModel",
          "model_module_version": "1.5.0",
          "state": {
            "_dom_classes": [],
            "_model_module": "@jupyter-widgets/controls",
            "_model_module_version": "1.5.0",
            "_model_name": "HBoxModel",
            "_view_count": null,
            "_view_module": "@jupyter-widgets/controls",
            "_view_module_version": "1.5.0",
            "_view_name": "HBoxView",
            "box_style": "",
            "children": [
              "IPY_MODEL_1ef0ae4c503148368973c5f2ce9f470a",
              "IPY_MODEL_4a48b35d5ce9471e94a64719be887c83",
              "IPY_MODEL_86612c2c68dc4f1d85c06f314df1db12"
            ],
            "layout": "IPY_MODEL_84e6adc82a7648aa884824f8a3bd2b6b"
          }
        },
        "1ef0ae4c503148368973c5f2ce9f470a": {
          "model_module": "@jupyter-widgets/controls",
          "model_name": "HTMLModel",
          "model_module_version": "1.5.0",
          "state": {
            "_dom_classes": [],
            "_model_module": "@jupyter-widgets/controls",
            "_model_module_version": "1.5.0",
            "_model_name": "HTMLModel",
            "_view_count": null,
            "_view_module": "@jupyter-widgets/controls",
            "_view_module_version": "1.5.0",
            "_view_name": "HTMLView",
            "description": "",
            "description_tooltip": null,
            "layout": "IPY_MODEL_00cebcb0b29c4c0f930c8340ed168fb2",
            "placeholder": "​",
            "style": "IPY_MODEL_a3e895526a8542d98c83b9dfda556047",
            "value": "100%"
          }
        },
        "4a48b35d5ce9471e94a64719be887c83": {
          "model_module": "@jupyter-widgets/controls",
          "model_name": "FloatProgressModel",
          "model_module_version": "1.5.0",
          "state": {
            "_dom_classes": [],
            "_model_module": "@jupyter-widgets/controls",
            "_model_module_version": "1.5.0",
            "_model_name": "FloatProgressModel",
            "_view_count": null,
            "_view_module": "@jupyter-widgets/controls",
            "_view_module_version": "1.5.0",
            "_view_name": "ProgressView",
            "bar_style": "success",
            "description": "",
            "description_tooltip": null,
            "layout": "IPY_MODEL_49fa4534342849c0b0bd3f44885984d3",
            "max": 9912422,
            "min": 0,
            "orientation": "horizontal",
            "style": "IPY_MODEL_8e6dc34a69a445d9b56e6226336a3c6e",
            "value": 9912422
          }
        },
        "86612c2c68dc4f1d85c06f314df1db12": {
          "model_module": "@jupyter-widgets/controls",
          "model_name": "HTMLModel",
          "model_module_version": "1.5.0",
          "state": {
            "_dom_classes": [],
            "_model_module": "@jupyter-widgets/controls",
            "_model_module_version": "1.5.0",
            "_model_name": "HTMLModel",
            "_view_count": null,
            "_view_module": "@jupyter-widgets/controls",
            "_view_module_version": "1.5.0",
            "_view_name": "HTMLView",
            "description": "",
            "description_tooltip": null,
            "layout": "IPY_MODEL_7912332ebeaf471bbf609c1293677cc8",
            "placeholder": "​",
            "style": "IPY_MODEL_2276524907cf4aeaa68f09fd6ae062e9",
            "value": " 9912422/9912422 [00:00&lt;00:00, 193423982.04it/s]"
          }
        },
        "84e6adc82a7648aa884824f8a3bd2b6b": {
          "model_module": "@jupyter-widgets/base",
          "model_name": "LayoutModel",
          "model_module_version": "1.2.0",
          "state": {
            "_model_module": "@jupyter-widgets/base",
            "_model_module_version": "1.2.0",
            "_model_name": "LayoutModel",
            "_view_count": null,
            "_view_module": "@jupyter-widgets/base",
            "_view_module_version": "1.2.0",
            "_view_name": "LayoutView",
            "align_content": null,
            "align_items": null,
            "align_self": null,
            "border": null,
            "bottom": null,
            "display": null,
            "flex": null,
            "flex_flow": null,
            "grid_area": null,
            "grid_auto_columns": null,
            "grid_auto_flow": null,
            "grid_auto_rows": null,
            "grid_column": null,
            "grid_gap": null,
            "grid_row": null,
            "grid_template_areas": null,
            "grid_template_columns": null,
            "grid_template_rows": null,
            "height": null,
            "justify_content": null,
            "justify_items": null,
            "left": null,
            "margin": null,
            "max_height": null,
            "max_width": null,
            "min_height": null,
            "min_width": null,
            "object_fit": null,
            "object_position": null,
            "order": null,
            "overflow": null,
            "overflow_x": null,
            "overflow_y": null,
            "padding": null,
            "right": null,
            "top": null,
            "visibility": null,
            "width": null
          }
        },
        "00cebcb0b29c4c0f930c8340ed168fb2": {
          "model_module": "@jupyter-widgets/base",
          "model_name": "LayoutModel",
          "model_module_version": "1.2.0",
          "state": {
            "_model_module": "@jupyter-widgets/base",
            "_model_module_version": "1.2.0",
            "_model_name": "LayoutModel",
            "_view_count": null,
            "_view_module": "@jupyter-widgets/base",
            "_view_module_version": "1.2.0",
            "_view_name": "LayoutView",
            "align_content": null,
            "align_items": null,
            "align_self": null,
            "border": null,
            "bottom": null,
            "display": null,
            "flex": null,
            "flex_flow": null,
            "grid_area": null,
            "grid_auto_columns": null,
            "grid_auto_flow": null,
            "grid_auto_rows": null,
            "grid_column": null,
            "grid_gap": null,
            "grid_row": null,
            "grid_template_areas": null,
            "grid_template_columns": null,
            "grid_template_rows": null,
            "height": null,
            "justify_content": null,
            "justify_items": null,
            "left": null,
            "margin": null,
            "max_height": null,
            "max_width": null,
            "min_height": null,
            "min_width": null,
            "object_fit": null,
            "object_position": null,
            "order": null,
            "overflow": null,
            "overflow_x": null,
            "overflow_y": null,
            "padding": null,
            "right": null,
            "top": null,
            "visibility": null,
            "width": null
          }
        },
        "a3e895526a8542d98c83b9dfda556047": {
          "model_module": "@jupyter-widgets/controls",
          "model_name": "DescriptionStyleModel",
          "model_module_version": "1.5.0",
          "state": {
            "_model_module": "@jupyter-widgets/controls",
            "_model_module_version": "1.5.0",
            "_model_name": "DescriptionStyleModel",
            "_view_count": null,
            "_view_module": "@jupyter-widgets/base",
            "_view_module_version": "1.2.0",
            "_view_name": "StyleView",
            "description_width": ""
          }
        },
        "49fa4534342849c0b0bd3f44885984d3": {
          "model_module": "@jupyter-widgets/base",
          "model_name": "LayoutModel",
          "model_module_version": "1.2.0",
          "state": {
            "_model_module": "@jupyter-widgets/base",
            "_model_module_version": "1.2.0",
            "_model_name": "LayoutModel",
            "_view_count": null,
            "_view_module": "@jupyter-widgets/base",
            "_view_module_version": "1.2.0",
            "_view_name": "LayoutView",
            "align_content": null,
            "align_items": null,
            "align_self": null,
            "border": null,
            "bottom": null,
            "display": null,
            "flex": null,
            "flex_flow": null,
            "grid_area": null,
            "grid_auto_columns": null,
            "grid_auto_flow": null,
            "grid_auto_rows": null,
            "grid_column": null,
            "grid_gap": null,
            "grid_row": null,
            "grid_template_areas": null,
            "grid_template_columns": null,
            "grid_template_rows": null,
            "height": null,
            "justify_content": null,
            "justify_items": null,
            "left": null,
            "margin": null,
            "max_height": null,
            "max_width": null,
            "min_height": null,
            "min_width": null,
            "object_fit": null,
            "object_position": null,
            "order": null,
            "overflow": null,
            "overflow_x": null,
            "overflow_y": null,
            "padding": null,
            "right": null,
            "top": null,
            "visibility": null,
            "width": null
          }
        },
        "8e6dc34a69a445d9b56e6226336a3c6e": {
          "model_module": "@jupyter-widgets/controls",
          "model_name": "ProgressStyleModel",
          "model_module_version": "1.5.0",
          "state": {
            "_model_module": "@jupyter-widgets/controls",
            "_model_module_version": "1.5.0",
            "_model_name": "ProgressStyleModel",
            "_view_count": null,
            "_view_module": "@jupyter-widgets/base",
            "_view_module_version": "1.2.0",
            "_view_name": "StyleView",
            "bar_color": null,
            "description_width": ""
          }
        },
        "7912332ebeaf471bbf609c1293677cc8": {
          "model_module": "@jupyter-widgets/base",
          "model_name": "LayoutModel",
          "model_module_version": "1.2.0",
          "state": {
            "_model_module": "@jupyter-widgets/base",
            "_model_module_version": "1.2.0",
            "_model_name": "LayoutModel",
            "_view_count": null,
            "_view_module": "@jupyter-widgets/base",
            "_view_module_version": "1.2.0",
            "_view_name": "LayoutView",
            "align_content": null,
            "align_items": null,
            "align_self": null,
            "border": null,
            "bottom": null,
            "display": null,
            "flex": null,
            "flex_flow": null,
            "grid_area": null,
            "grid_auto_columns": null,
            "grid_auto_flow": null,
            "grid_auto_rows": null,
            "grid_column": null,
            "grid_gap": null,
            "grid_row": null,
            "grid_template_areas": null,
            "grid_template_columns": null,
            "grid_template_rows": null,
            "height": null,
            "justify_content": null,
            "justify_items": null,
            "left": null,
            "margin": null,
            "max_height": null,
            "max_width": null,
            "min_height": null,
            "min_width": null,
            "object_fit": null,
            "object_position": null,
            "order": null,
            "overflow": null,
            "overflow_x": null,
            "overflow_y": null,
            "padding": null,
            "right": null,
            "top": null,
            "visibility": null,
            "width": null
          }
        },
        "2276524907cf4aeaa68f09fd6ae062e9": {
          "model_module": "@jupyter-widgets/controls",
          "model_name": "DescriptionStyleModel",
          "model_module_version": "1.5.0",
          "state": {
            "_model_module": "@jupyter-widgets/controls",
            "_model_module_version": "1.5.0",
            "_model_name": "DescriptionStyleModel",
            "_view_count": null,
            "_view_module": "@jupyter-widgets/base",
            "_view_module_version": "1.2.0",
            "_view_name": "StyleView",
            "description_width": ""
          }
        },
        "f2fb5dd06b2242c398ffc2f18fd0774c": {
          "model_module": "@jupyter-widgets/controls",
          "model_name": "HBoxModel",
          "model_module_version": "1.5.0",
          "state": {
            "_dom_classes": [],
            "_model_module": "@jupyter-widgets/controls",
            "_model_module_version": "1.5.0",
            "_model_name": "HBoxModel",
            "_view_count": null,
            "_view_module": "@jupyter-widgets/controls",
            "_view_module_version": "1.5.0",
            "_view_name": "HBoxView",
            "box_style": "",
            "children": [
              "IPY_MODEL_f427497d976347a8b7ae8e9c5171f629",
              "IPY_MODEL_f53c202d16e4499aa8f2990881d0fcc7",
              "IPY_MODEL_5a4d8204bb1c4304a60e6c2aeb966b61"
            ],
            "layout": "IPY_MODEL_23481d33509443ddbc24d0b22dbd632f"
          }
        },
        "f427497d976347a8b7ae8e9c5171f629": {
          "model_module": "@jupyter-widgets/controls",
          "model_name": "HTMLModel",
          "model_module_version": "1.5.0",
          "state": {
            "_dom_classes": [],
            "_model_module": "@jupyter-widgets/controls",
            "_model_module_version": "1.5.0",
            "_model_name": "HTMLModel",
            "_view_count": null,
            "_view_module": "@jupyter-widgets/controls",
            "_view_module_version": "1.5.0",
            "_view_name": "HTMLView",
            "description": "",
            "description_tooltip": null,
            "layout": "IPY_MODEL_97ab1b94aef644dbaa64a1f57576562a",
            "placeholder": "​",
            "style": "IPY_MODEL_84098678c3a5469ba00197dc51982654",
            "value": "100%"
          }
        },
        "f53c202d16e4499aa8f2990881d0fcc7": {
          "model_module": "@jupyter-widgets/controls",
          "model_name": "FloatProgressModel",
          "model_module_version": "1.5.0",
          "state": {
            "_dom_classes": [],
            "_model_module": "@jupyter-widgets/controls",
            "_model_module_version": "1.5.0",
            "_model_name": "FloatProgressModel",
            "_view_count": null,
            "_view_module": "@jupyter-widgets/controls",
            "_view_module_version": "1.5.0",
            "_view_name": "ProgressView",
            "bar_style": "success",
            "description": "",
            "description_tooltip": null,
            "layout": "IPY_MODEL_4ebb31fefe284cd4845b5118f6c2cc07",
            "max": 28881,
            "min": 0,
            "orientation": "horizontal",
            "style": "IPY_MODEL_25cf066fea3142829267ca007d481809",
            "value": 28881
          }
        },
        "5a4d8204bb1c4304a60e6c2aeb966b61": {
          "model_module": "@jupyter-widgets/controls",
          "model_name": "HTMLModel",
          "model_module_version": "1.5.0",
          "state": {
            "_dom_classes": [],
            "_model_module": "@jupyter-widgets/controls",
            "_model_module_version": "1.5.0",
            "_model_name": "HTMLModel",
            "_view_count": null,
            "_view_module": "@jupyter-widgets/controls",
            "_view_module_version": "1.5.0",
            "_view_name": "HTMLView",
            "description": "",
            "description_tooltip": null,
            "layout": "IPY_MODEL_b8f6ffc42c424e5eb292e8fb06627c1d",
            "placeholder": "​",
            "style": "IPY_MODEL_a1125cdc980c4fed93d0b1fc5661d4b3",
            "value": " 28881/28881 [00:00&lt;00:00, 1723639.98it/s]"
          }
        },
        "23481d33509443ddbc24d0b22dbd632f": {
          "model_module": "@jupyter-widgets/base",
          "model_name": "LayoutModel",
          "model_module_version": "1.2.0",
          "state": {
            "_model_module": "@jupyter-widgets/base",
            "_model_module_version": "1.2.0",
            "_model_name": "LayoutModel",
            "_view_count": null,
            "_view_module": "@jupyter-widgets/base",
            "_view_module_version": "1.2.0",
            "_view_name": "LayoutView",
            "align_content": null,
            "align_items": null,
            "align_self": null,
            "border": null,
            "bottom": null,
            "display": null,
            "flex": null,
            "flex_flow": null,
            "grid_area": null,
            "grid_auto_columns": null,
            "grid_auto_flow": null,
            "grid_auto_rows": null,
            "grid_column": null,
            "grid_gap": null,
            "grid_row": null,
            "grid_template_areas": null,
            "grid_template_columns": null,
            "grid_template_rows": null,
            "height": null,
            "justify_content": null,
            "justify_items": null,
            "left": null,
            "margin": null,
            "max_height": null,
            "max_width": null,
            "min_height": null,
            "min_width": null,
            "object_fit": null,
            "object_position": null,
            "order": null,
            "overflow": null,
            "overflow_x": null,
            "overflow_y": null,
            "padding": null,
            "right": null,
            "top": null,
            "visibility": null,
            "width": null
          }
        },
        "97ab1b94aef644dbaa64a1f57576562a": {
          "model_module": "@jupyter-widgets/base",
          "model_name": "LayoutModel",
          "model_module_version": "1.2.0",
          "state": {
            "_model_module": "@jupyter-widgets/base",
            "_model_module_version": "1.2.0",
            "_model_name": "LayoutModel",
            "_view_count": null,
            "_view_module": "@jupyter-widgets/base",
            "_view_module_version": "1.2.0",
            "_view_name": "LayoutView",
            "align_content": null,
            "align_items": null,
            "align_self": null,
            "border": null,
            "bottom": null,
            "display": null,
            "flex": null,
            "flex_flow": null,
            "grid_area": null,
            "grid_auto_columns": null,
            "grid_auto_flow": null,
            "grid_auto_rows": null,
            "grid_column": null,
            "grid_gap": null,
            "grid_row": null,
            "grid_template_areas": null,
            "grid_template_columns": null,
            "grid_template_rows": null,
            "height": null,
            "justify_content": null,
            "justify_items": null,
            "left": null,
            "margin": null,
            "max_height": null,
            "max_width": null,
            "min_height": null,
            "min_width": null,
            "object_fit": null,
            "object_position": null,
            "order": null,
            "overflow": null,
            "overflow_x": null,
            "overflow_y": null,
            "padding": null,
            "right": null,
            "top": null,
            "visibility": null,
            "width": null
          }
        },
        "84098678c3a5469ba00197dc51982654": {
          "model_module": "@jupyter-widgets/controls",
          "model_name": "DescriptionStyleModel",
          "model_module_version": "1.5.0",
          "state": {
            "_model_module": "@jupyter-widgets/controls",
            "_model_module_version": "1.5.0",
            "_model_name": "DescriptionStyleModel",
            "_view_count": null,
            "_view_module": "@jupyter-widgets/base",
            "_view_module_version": "1.2.0",
            "_view_name": "StyleView",
            "description_width": ""
          }
        },
        "4ebb31fefe284cd4845b5118f6c2cc07": {
          "model_module": "@jupyter-widgets/base",
          "model_name": "LayoutModel",
          "model_module_version": "1.2.0",
          "state": {
            "_model_module": "@jupyter-widgets/base",
            "_model_module_version": "1.2.0",
            "_model_name": "LayoutModel",
            "_view_count": null,
            "_view_module": "@jupyter-widgets/base",
            "_view_module_version": "1.2.0",
            "_view_name": "LayoutView",
            "align_content": null,
            "align_items": null,
            "align_self": null,
            "border": null,
            "bottom": null,
            "display": null,
            "flex": null,
            "flex_flow": null,
            "grid_area": null,
            "grid_auto_columns": null,
            "grid_auto_flow": null,
            "grid_auto_rows": null,
            "grid_column": null,
            "grid_gap": null,
            "grid_row": null,
            "grid_template_areas": null,
            "grid_template_columns": null,
            "grid_template_rows": null,
            "height": null,
            "justify_content": null,
            "justify_items": null,
            "left": null,
            "margin": null,
            "max_height": null,
            "max_width": null,
            "min_height": null,
            "min_width": null,
            "object_fit": null,
            "object_position": null,
            "order": null,
            "overflow": null,
            "overflow_x": null,
            "overflow_y": null,
            "padding": null,
            "right": null,
            "top": null,
            "visibility": null,
            "width": null
          }
        },
        "25cf066fea3142829267ca007d481809": {
          "model_module": "@jupyter-widgets/controls",
          "model_name": "ProgressStyleModel",
          "model_module_version": "1.5.0",
          "state": {
            "_model_module": "@jupyter-widgets/controls",
            "_model_module_version": "1.5.0",
            "_model_name": "ProgressStyleModel",
            "_view_count": null,
            "_view_module": "@jupyter-widgets/base",
            "_view_module_version": "1.2.0",
            "_view_name": "StyleView",
            "bar_color": null,
            "description_width": ""
          }
        },
        "b8f6ffc42c424e5eb292e8fb06627c1d": {
          "model_module": "@jupyter-widgets/base",
          "model_name": "LayoutModel",
          "model_module_version": "1.2.0",
          "state": {
            "_model_module": "@jupyter-widgets/base",
            "_model_module_version": "1.2.0",
            "_model_name": "LayoutModel",
            "_view_count": null,
            "_view_module": "@jupyter-widgets/base",
            "_view_module_version": "1.2.0",
            "_view_name": "LayoutView",
            "align_content": null,
            "align_items": null,
            "align_self": null,
            "border": null,
            "bottom": null,
            "display": null,
            "flex": null,
            "flex_flow": null,
            "grid_area": null,
            "grid_auto_columns": null,
            "grid_auto_flow": null,
            "grid_auto_rows": null,
            "grid_column": null,
            "grid_gap": null,
            "grid_row": null,
            "grid_template_areas": null,
            "grid_template_columns": null,
            "grid_template_rows": null,
            "height": null,
            "justify_content": null,
            "justify_items": null,
            "left": null,
            "margin": null,
            "max_height": null,
            "max_width": null,
            "min_height": null,
            "min_width": null,
            "object_fit": null,
            "object_position": null,
            "order": null,
            "overflow": null,
            "overflow_x": null,
            "overflow_y": null,
            "padding": null,
            "right": null,
            "top": null,
            "visibility": null,
            "width": null
          }
        },
        "a1125cdc980c4fed93d0b1fc5661d4b3": {
          "model_module": "@jupyter-widgets/controls",
          "model_name": "DescriptionStyleModel",
          "model_module_version": "1.5.0",
          "state": {
            "_model_module": "@jupyter-widgets/controls",
            "_model_module_version": "1.5.0",
            "_model_name": "DescriptionStyleModel",
            "_view_count": null,
            "_view_module": "@jupyter-widgets/base",
            "_view_module_version": "1.2.0",
            "_view_name": "StyleView",
            "description_width": ""
          }
        },
        "6a5849cdfe83450a9a39f5890f79f5b4": {
          "model_module": "@jupyter-widgets/controls",
          "model_name": "HBoxModel",
          "model_module_version": "1.5.0",
          "state": {
            "_dom_classes": [],
            "_model_module": "@jupyter-widgets/controls",
            "_model_module_version": "1.5.0",
            "_model_name": "HBoxModel",
            "_view_count": null,
            "_view_module": "@jupyter-widgets/controls",
            "_view_module_version": "1.5.0",
            "_view_name": "HBoxView",
            "box_style": "",
            "children": [
              "IPY_MODEL_d3e48adc449b45059b0cf0f94862ec15",
              "IPY_MODEL_466447140ad24437a57626822d1e7665",
              "IPY_MODEL_52fd17ac6fdd4fd8a627649933896348"
            ],
            "layout": "IPY_MODEL_415734708a2f4f519fd7e70158e1eca6"
          }
        },
        "d3e48adc449b45059b0cf0f94862ec15": {
          "model_module": "@jupyter-widgets/controls",
          "model_name": "HTMLModel",
          "model_module_version": "1.5.0",
          "state": {
            "_dom_classes": [],
            "_model_module": "@jupyter-widgets/controls",
            "_model_module_version": "1.5.0",
            "_model_name": "HTMLModel",
            "_view_count": null,
            "_view_module": "@jupyter-widgets/controls",
            "_view_module_version": "1.5.0",
            "_view_name": "HTMLView",
            "description": "",
            "description_tooltip": null,
            "layout": "IPY_MODEL_8092aa7d78d346a4825cb626f9d316ab",
            "placeholder": "​",
            "style": "IPY_MODEL_e1048bd05c5d4c1ba5fb79f371a054c2",
            "value": "100%"
          }
        },
        "466447140ad24437a57626822d1e7665": {
          "model_module": "@jupyter-widgets/controls",
          "model_name": "FloatProgressModel",
          "model_module_version": "1.5.0",
          "state": {
            "_dom_classes": [],
            "_model_module": "@jupyter-widgets/controls",
            "_model_module_version": "1.5.0",
            "_model_name": "FloatProgressModel",
            "_view_count": null,
            "_view_module": "@jupyter-widgets/controls",
            "_view_module_version": "1.5.0",
            "_view_name": "ProgressView",
            "bar_style": "success",
            "description": "",
            "description_tooltip": null,
            "layout": "IPY_MODEL_53d57e51e51b42f29559a2509105926d",
            "max": 1648877,
            "min": 0,
            "orientation": "horizontal",
            "style": "IPY_MODEL_29caeca3e84241aaa1cec4d363362116",
            "value": 1648877
          }
        },
        "52fd17ac6fdd4fd8a627649933896348": {
          "model_module": "@jupyter-widgets/controls",
          "model_name": "HTMLModel",
          "model_module_version": "1.5.0",
          "state": {
            "_dom_classes": [],
            "_model_module": "@jupyter-widgets/controls",
            "_model_module_version": "1.5.0",
            "_model_name": "HTMLModel",
            "_view_count": null,
            "_view_module": "@jupyter-widgets/controls",
            "_view_module_version": "1.5.0",
            "_view_name": "HTMLView",
            "description": "",
            "description_tooltip": null,
            "layout": "IPY_MODEL_d0e8c54a1c1b466eae98cb92c1c01f50",
            "placeholder": "​",
            "style": "IPY_MODEL_e62deb24002f43afbecce5feac7f1ca4",
            "value": " 1648877/1648877 [00:00&lt;00:00, 69614891.51it/s]"
          }
        },
        "415734708a2f4f519fd7e70158e1eca6": {
          "model_module": "@jupyter-widgets/base",
          "model_name": "LayoutModel",
          "model_module_version": "1.2.0",
          "state": {
            "_model_module": "@jupyter-widgets/base",
            "_model_module_version": "1.2.0",
            "_model_name": "LayoutModel",
            "_view_count": null,
            "_view_module": "@jupyter-widgets/base",
            "_view_module_version": "1.2.0",
            "_view_name": "LayoutView",
            "align_content": null,
            "align_items": null,
            "align_self": null,
            "border": null,
            "bottom": null,
            "display": null,
            "flex": null,
            "flex_flow": null,
            "grid_area": null,
            "grid_auto_columns": null,
            "grid_auto_flow": null,
            "grid_auto_rows": null,
            "grid_column": null,
            "grid_gap": null,
            "grid_row": null,
            "grid_template_areas": null,
            "grid_template_columns": null,
            "grid_template_rows": null,
            "height": null,
            "justify_content": null,
            "justify_items": null,
            "left": null,
            "margin": null,
            "max_height": null,
            "max_width": null,
            "min_height": null,
            "min_width": null,
            "object_fit": null,
            "object_position": null,
            "order": null,
            "overflow": null,
            "overflow_x": null,
            "overflow_y": null,
            "padding": null,
            "right": null,
            "top": null,
            "visibility": null,
            "width": null
          }
        },
        "8092aa7d78d346a4825cb626f9d316ab": {
          "model_module": "@jupyter-widgets/base",
          "model_name": "LayoutModel",
          "model_module_version": "1.2.0",
          "state": {
            "_model_module": "@jupyter-widgets/base",
            "_model_module_version": "1.2.0",
            "_model_name": "LayoutModel",
            "_view_count": null,
            "_view_module": "@jupyter-widgets/base",
            "_view_module_version": "1.2.0",
            "_view_name": "LayoutView",
            "align_content": null,
            "align_items": null,
            "align_self": null,
            "border": null,
            "bottom": null,
            "display": null,
            "flex": null,
            "flex_flow": null,
            "grid_area": null,
            "grid_auto_columns": null,
            "grid_auto_flow": null,
            "grid_auto_rows": null,
            "grid_column": null,
            "grid_gap": null,
            "grid_row": null,
            "grid_template_areas": null,
            "grid_template_columns": null,
            "grid_template_rows": null,
            "height": null,
            "justify_content": null,
            "justify_items": null,
            "left": null,
            "margin": null,
            "max_height": null,
            "max_width": null,
            "min_height": null,
            "min_width": null,
            "object_fit": null,
            "object_position": null,
            "order": null,
            "overflow": null,
            "overflow_x": null,
            "overflow_y": null,
            "padding": null,
            "right": null,
            "top": null,
            "visibility": null,
            "width": null
          }
        },
        "e1048bd05c5d4c1ba5fb79f371a054c2": {
          "model_module": "@jupyter-widgets/controls",
          "model_name": "DescriptionStyleModel",
          "model_module_version": "1.5.0",
          "state": {
            "_model_module": "@jupyter-widgets/controls",
            "_model_module_version": "1.5.0",
            "_model_name": "DescriptionStyleModel",
            "_view_count": null,
            "_view_module": "@jupyter-widgets/base",
            "_view_module_version": "1.2.0",
            "_view_name": "StyleView",
            "description_width": ""
          }
        },
        "53d57e51e51b42f29559a2509105926d": {
          "model_module": "@jupyter-widgets/base",
          "model_name": "LayoutModel",
          "model_module_version": "1.2.0",
          "state": {
            "_model_module": "@jupyter-widgets/base",
            "_model_module_version": "1.2.0",
            "_model_name": "LayoutModel",
            "_view_count": null,
            "_view_module": "@jupyter-widgets/base",
            "_view_module_version": "1.2.0",
            "_view_name": "LayoutView",
            "align_content": null,
            "align_items": null,
            "align_self": null,
            "border": null,
            "bottom": null,
            "display": null,
            "flex": null,
            "flex_flow": null,
            "grid_area": null,
            "grid_auto_columns": null,
            "grid_auto_flow": null,
            "grid_auto_rows": null,
            "grid_column": null,
            "grid_gap": null,
            "grid_row": null,
            "grid_template_areas": null,
            "grid_template_columns": null,
            "grid_template_rows": null,
            "height": null,
            "justify_content": null,
            "justify_items": null,
            "left": null,
            "margin": null,
            "max_height": null,
            "max_width": null,
            "min_height": null,
            "min_width": null,
            "object_fit": null,
            "object_position": null,
            "order": null,
            "overflow": null,
            "overflow_x": null,
            "overflow_y": null,
            "padding": null,
            "right": null,
            "top": null,
            "visibility": null,
            "width": null
          }
        },
        "29caeca3e84241aaa1cec4d363362116": {
          "model_module": "@jupyter-widgets/controls",
          "model_name": "ProgressStyleModel",
          "model_module_version": "1.5.0",
          "state": {
            "_model_module": "@jupyter-widgets/controls",
            "_model_module_version": "1.5.0",
            "_model_name": "ProgressStyleModel",
            "_view_count": null,
            "_view_module": "@jupyter-widgets/base",
            "_view_module_version": "1.2.0",
            "_view_name": "StyleView",
            "bar_color": null,
            "description_width": ""
          }
        },
        "d0e8c54a1c1b466eae98cb92c1c01f50": {
          "model_module": "@jupyter-widgets/base",
          "model_name": "LayoutModel",
          "model_module_version": "1.2.0",
          "state": {
            "_model_module": "@jupyter-widgets/base",
            "_model_module_version": "1.2.0",
            "_model_name": "LayoutModel",
            "_view_count": null,
            "_view_module": "@jupyter-widgets/base",
            "_view_module_version": "1.2.0",
            "_view_name": "LayoutView",
            "align_content": null,
            "align_items": null,
            "align_self": null,
            "border": null,
            "bottom": null,
            "display": null,
            "flex": null,
            "flex_flow": null,
            "grid_area": null,
            "grid_auto_columns": null,
            "grid_auto_flow": null,
            "grid_auto_rows": null,
            "grid_column": null,
            "grid_gap": null,
            "grid_row": null,
            "grid_template_areas": null,
            "grid_template_columns": null,
            "grid_template_rows": null,
            "height": null,
            "justify_content": null,
            "justify_items": null,
            "left": null,
            "margin": null,
            "max_height": null,
            "max_width": null,
            "min_height": null,
            "min_width": null,
            "object_fit": null,
            "object_position": null,
            "order": null,
            "overflow": null,
            "overflow_x": null,
            "overflow_y": null,
            "padding": null,
            "right": null,
            "top": null,
            "visibility": null,
            "width": null
          }
        },
        "e62deb24002f43afbecce5feac7f1ca4": {
          "model_module": "@jupyter-widgets/controls",
          "model_name": "DescriptionStyleModel",
          "model_module_version": "1.5.0",
          "state": {
            "_model_module": "@jupyter-widgets/controls",
            "_model_module_version": "1.5.0",
            "_model_name": "DescriptionStyleModel",
            "_view_count": null,
            "_view_module": "@jupyter-widgets/base",
            "_view_module_version": "1.2.0",
            "_view_name": "StyleView",
            "description_width": ""
          }
        },
        "3181408a1dae4ebbac1938be11e452ee": {
          "model_module": "@jupyter-widgets/controls",
          "model_name": "HBoxModel",
          "model_module_version": "1.5.0",
          "state": {
            "_dom_classes": [],
            "_model_module": "@jupyter-widgets/controls",
            "_model_module_version": "1.5.0",
            "_model_name": "HBoxModel",
            "_view_count": null,
            "_view_module": "@jupyter-widgets/controls",
            "_view_module_version": "1.5.0",
            "_view_name": "HBoxView",
            "box_style": "",
            "children": [
              "IPY_MODEL_2618c4e998b340368e0fd9e7ea7459d0",
              "IPY_MODEL_984db8840f2b4887ad2a639fa3ed8167",
              "IPY_MODEL_1f4e8afe72304d86a42b04cea8305711"
            ],
            "layout": "IPY_MODEL_2e990c32c97a4805bc70dd71cde53e98"
          }
        },
        "2618c4e998b340368e0fd9e7ea7459d0": {
          "model_module": "@jupyter-widgets/controls",
          "model_name": "HTMLModel",
          "model_module_version": "1.5.0",
          "state": {
            "_dom_classes": [],
            "_model_module": "@jupyter-widgets/controls",
            "_model_module_version": "1.5.0",
            "_model_name": "HTMLModel",
            "_view_count": null,
            "_view_module": "@jupyter-widgets/controls",
            "_view_module_version": "1.5.0",
            "_view_name": "HTMLView",
            "description": "",
            "description_tooltip": null,
            "layout": "IPY_MODEL_338437c1329f48789b18fae3faa7ac94",
            "placeholder": "​",
            "style": "IPY_MODEL_72ed93b200594516953e57d430d508c5",
            "value": "100%"
          }
        },
        "984db8840f2b4887ad2a639fa3ed8167": {
          "model_module": "@jupyter-widgets/controls",
          "model_name": "FloatProgressModel",
          "model_module_version": "1.5.0",
          "state": {
            "_dom_classes": [],
            "_model_module": "@jupyter-widgets/controls",
            "_model_module_version": "1.5.0",
            "_model_name": "FloatProgressModel",
            "_view_count": null,
            "_view_module": "@jupyter-widgets/controls",
            "_view_module_version": "1.5.0",
            "_view_name": "ProgressView",
            "bar_style": "success",
            "description": "",
            "description_tooltip": null,
            "layout": "IPY_MODEL_f6dceca6c0b0452fa70ec1ff7796bfea",
            "max": 4542,
            "min": 0,
            "orientation": "horizontal",
            "style": "IPY_MODEL_a3d709d5d53947e3a1f9fe0549d3533f",
            "value": 4542
          }
        },
        "1f4e8afe72304d86a42b04cea8305711": {
          "model_module": "@jupyter-widgets/controls",
          "model_name": "HTMLModel",
          "model_module_version": "1.5.0",
          "state": {
            "_dom_classes": [],
            "_model_module": "@jupyter-widgets/controls",
            "_model_module_version": "1.5.0",
            "_model_name": "HTMLModel",
            "_view_count": null,
            "_view_module": "@jupyter-widgets/controls",
            "_view_module_version": "1.5.0",
            "_view_name": "HTMLView",
            "description": "",
            "description_tooltip": null,
            "layout": "IPY_MODEL_44710e37a8a74c9aa47a41e110234ecb",
            "placeholder": "​",
            "style": "IPY_MODEL_e250125baa8741fa982296a0d6d2283e",
            "value": " 4542/4542 [00:00&lt;00:00, 254122.25it/s]"
          }
        },
        "2e990c32c97a4805bc70dd71cde53e98": {
          "model_module": "@jupyter-widgets/base",
          "model_name": "LayoutModel",
          "model_module_version": "1.2.0",
          "state": {
            "_model_module": "@jupyter-widgets/base",
            "_model_module_version": "1.2.0",
            "_model_name": "LayoutModel",
            "_view_count": null,
            "_view_module": "@jupyter-widgets/base",
            "_view_module_version": "1.2.0",
            "_view_name": "LayoutView",
            "align_content": null,
            "align_items": null,
            "align_self": null,
            "border": null,
            "bottom": null,
            "display": null,
            "flex": null,
            "flex_flow": null,
            "grid_area": null,
            "grid_auto_columns": null,
            "grid_auto_flow": null,
            "grid_auto_rows": null,
            "grid_column": null,
            "grid_gap": null,
            "grid_row": null,
            "grid_template_areas": null,
            "grid_template_columns": null,
            "grid_template_rows": null,
            "height": null,
            "justify_content": null,
            "justify_items": null,
            "left": null,
            "margin": null,
            "max_height": null,
            "max_width": null,
            "min_height": null,
            "min_width": null,
            "object_fit": null,
            "object_position": null,
            "order": null,
            "overflow": null,
            "overflow_x": null,
            "overflow_y": null,
            "padding": null,
            "right": null,
            "top": null,
            "visibility": null,
            "width": null
          }
        },
        "338437c1329f48789b18fae3faa7ac94": {
          "model_module": "@jupyter-widgets/base",
          "model_name": "LayoutModel",
          "model_module_version": "1.2.0",
          "state": {
            "_model_module": "@jupyter-widgets/base",
            "_model_module_version": "1.2.0",
            "_model_name": "LayoutModel",
            "_view_count": null,
            "_view_module": "@jupyter-widgets/base",
            "_view_module_version": "1.2.0",
            "_view_name": "LayoutView",
            "align_content": null,
            "align_items": null,
            "align_self": null,
            "border": null,
            "bottom": null,
            "display": null,
            "flex": null,
            "flex_flow": null,
            "grid_area": null,
            "grid_auto_columns": null,
            "grid_auto_flow": null,
            "grid_auto_rows": null,
            "grid_column": null,
            "grid_gap": null,
            "grid_row": null,
            "grid_template_areas": null,
            "grid_template_columns": null,
            "grid_template_rows": null,
            "height": null,
            "justify_content": null,
            "justify_items": null,
            "left": null,
            "margin": null,
            "max_height": null,
            "max_width": null,
            "min_height": null,
            "min_width": null,
            "object_fit": null,
            "object_position": null,
            "order": null,
            "overflow": null,
            "overflow_x": null,
            "overflow_y": null,
            "padding": null,
            "right": null,
            "top": null,
            "visibility": null,
            "width": null
          }
        },
        "72ed93b200594516953e57d430d508c5": {
          "model_module": "@jupyter-widgets/controls",
          "model_name": "DescriptionStyleModel",
          "model_module_version": "1.5.0",
          "state": {
            "_model_module": "@jupyter-widgets/controls",
            "_model_module_version": "1.5.0",
            "_model_name": "DescriptionStyleModel",
            "_view_count": null,
            "_view_module": "@jupyter-widgets/base",
            "_view_module_version": "1.2.0",
            "_view_name": "StyleView",
            "description_width": ""
          }
        },
        "f6dceca6c0b0452fa70ec1ff7796bfea": {
          "model_module": "@jupyter-widgets/base",
          "model_name": "LayoutModel",
          "model_module_version": "1.2.0",
          "state": {
            "_model_module": "@jupyter-widgets/base",
            "_model_module_version": "1.2.0",
            "_model_name": "LayoutModel",
            "_view_count": null,
            "_view_module": "@jupyter-widgets/base",
            "_view_module_version": "1.2.0",
            "_view_name": "LayoutView",
            "align_content": null,
            "align_items": null,
            "align_self": null,
            "border": null,
            "bottom": null,
            "display": null,
            "flex": null,
            "flex_flow": null,
            "grid_area": null,
            "grid_auto_columns": null,
            "grid_auto_flow": null,
            "grid_auto_rows": null,
            "grid_column": null,
            "grid_gap": null,
            "grid_row": null,
            "grid_template_areas": null,
            "grid_template_columns": null,
            "grid_template_rows": null,
            "height": null,
            "justify_content": null,
            "justify_items": null,
            "left": null,
            "margin": null,
            "max_height": null,
            "max_width": null,
            "min_height": null,
            "min_width": null,
            "object_fit": null,
            "object_position": null,
            "order": null,
            "overflow": null,
            "overflow_x": null,
            "overflow_y": null,
            "padding": null,
            "right": null,
            "top": null,
            "visibility": null,
            "width": null
          }
        },
        "a3d709d5d53947e3a1f9fe0549d3533f": {
          "model_module": "@jupyter-widgets/controls",
          "model_name": "ProgressStyleModel",
          "model_module_version": "1.5.0",
          "state": {
            "_model_module": "@jupyter-widgets/controls",
            "_model_module_version": "1.5.0",
            "_model_name": "ProgressStyleModel",
            "_view_count": null,
            "_view_module": "@jupyter-widgets/base",
            "_view_module_version": "1.2.0",
            "_view_name": "StyleView",
            "bar_color": null,
            "description_width": ""
          }
        },
        "44710e37a8a74c9aa47a41e110234ecb": {
          "model_module": "@jupyter-widgets/base",
          "model_name": "LayoutModel",
          "model_module_version": "1.2.0",
          "state": {
            "_model_module": "@jupyter-widgets/base",
            "_model_module_version": "1.2.0",
            "_model_name": "LayoutModel",
            "_view_count": null,
            "_view_module": "@jupyter-widgets/base",
            "_view_module_version": "1.2.0",
            "_view_name": "LayoutView",
            "align_content": null,
            "align_items": null,
            "align_self": null,
            "border": null,
            "bottom": null,
            "display": null,
            "flex": null,
            "flex_flow": null,
            "grid_area": null,
            "grid_auto_columns": null,
            "grid_auto_flow": null,
            "grid_auto_rows": null,
            "grid_column": null,
            "grid_gap": null,
            "grid_row": null,
            "grid_template_areas": null,
            "grid_template_columns": null,
            "grid_template_rows": null,
            "height": null,
            "justify_content": null,
            "justify_items": null,
            "left": null,
            "margin": null,
            "max_height": null,
            "max_width": null,
            "min_height": null,
            "min_width": null,
            "object_fit": null,
            "object_position": null,
            "order": null,
            "overflow": null,
            "overflow_x": null,
            "overflow_y": null,
            "padding": null,
            "right": null,
            "top": null,
            "visibility": null,
            "width": null
          }
        },
        "e250125baa8741fa982296a0d6d2283e": {
          "model_module": "@jupyter-widgets/controls",
          "model_name": "DescriptionStyleModel",
          "model_module_version": "1.5.0",
          "state": {
            "_model_module": "@jupyter-widgets/controls",
            "_model_module_version": "1.5.0",
            "_model_name": "DescriptionStyleModel",
            "_view_count": null,
            "_view_module": "@jupyter-widgets/base",
            "_view_module_version": "1.2.0",
            "_view_name": "StyleView",
            "description_width": ""
          }
        }
      }
    }
  },
  "cells": [
    {
      "cell_type": "code",
      "source": [
        "# Imports\n",
        "import torch\n",
        "from torch import nn  # All neural network modules\n",
        "from torch import optim  # For optimizers like SGD, Adam, etc.\n",
        "from torch.utils.data import Dataset, DataLoader  # Gives easier dataset managment\n",
        "import torchvision\n",
        "import torchvision.datasets as datasets  # Standard datasets\n",
        "import torchvision.transforms as transforms  # Transformations we can perform on our dataset for augmentation\n"
      ],
      "metadata": {
        "id": "HBvTms61bUoI"
      },
      "execution_count": null,
      "outputs": []
    },
    {
      "cell_type": "markdown",
      "source": [
        "# **Steps**\n",
        "\n",
        "    Step 1: Load Dataset\n",
        "    Step 2: Make Dataset Iterable\n",
        "    Step 3: Create Model Class\n",
        "    Step 4: Instantiate Model Class\n",
        "    Step 5: Instantiate Loss Class\n",
        "    Step 6: Instantiate Optimizer Class\n",
        "    Step 7: Train Model\n"
      ],
      "metadata": {
        "id": "oiKavMW1fqfA"
      }
    },
    {
      "cell_type": "markdown",
      "source": [
        "## **Load Dataset**\n"
      ],
      "metadata": {
        "id": "U0f6nIVPG_Q4"
      }
    },
    {
      "cell_type": "code",
      "source": [
        "#The MNIST dataset contains black and white, hand-written (numerical) digits that are 28x28 pixels large. \n",
        "train_dataset = datasets.MNIST(root=\"dataset/\", train=True, transform=transforms.ToTensor(), download=True)\n",
        "test_dataset = datasets.MNIST(root=\"dataset/\", train=False, transform=transforms.ToTensor(), download=True)\n",
        "# root is the path where the train/test data is stored,\n",
        "#train specifies training or test dataset,\n",
        "#download=True downloads the data from the internet if it’s not available at root.\n",
        "#transform specify the feature and label transformations"
      ],
      "metadata": {
        "id": "XrLIgqRAbeJB",
        "colab": {
          "base_uri": "https://localhost:8080/",
          "height": 423,
          "referenced_widgets": [
            "e3856e38fc0a43dd9838198581e9b84b",
            "1ef0ae4c503148368973c5f2ce9f470a",
            "4a48b35d5ce9471e94a64719be887c83",
            "86612c2c68dc4f1d85c06f314df1db12",
            "84e6adc82a7648aa884824f8a3bd2b6b",
            "00cebcb0b29c4c0f930c8340ed168fb2",
            "a3e895526a8542d98c83b9dfda556047",
            "49fa4534342849c0b0bd3f44885984d3",
            "8e6dc34a69a445d9b56e6226336a3c6e",
            "7912332ebeaf471bbf609c1293677cc8",
            "2276524907cf4aeaa68f09fd6ae062e9",
            "f2fb5dd06b2242c398ffc2f18fd0774c",
            "f427497d976347a8b7ae8e9c5171f629",
            "f53c202d16e4499aa8f2990881d0fcc7",
            "5a4d8204bb1c4304a60e6c2aeb966b61",
            "23481d33509443ddbc24d0b22dbd632f",
            "97ab1b94aef644dbaa64a1f57576562a",
            "84098678c3a5469ba00197dc51982654",
            "4ebb31fefe284cd4845b5118f6c2cc07",
            "25cf066fea3142829267ca007d481809",
            "b8f6ffc42c424e5eb292e8fb06627c1d",
            "a1125cdc980c4fed93d0b1fc5661d4b3",
            "6a5849cdfe83450a9a39f5890f79f5b4",
            "d3e48adc449b45059b0cf0f94862ec15",
            "466447140ad24437a57626822d1e7665",
            "52fd17ac6fdd4fd8a627649933896348",
            "415734708a2f4f519fd7e70158e1eca6",
            "8092aa7d78d346a4825cb626f9d316ab",
            "e1048bd05c5d4c1ba5fb79f371a054c2",
            "53d57e51e51b42f29559a2509105926d",
            "29caeca3e84241aaa1cec4d363362116",
            "d0e8c54a1c1b466eae98cb92c1c01f50",
            "e62deb24002f43afbecce5feac7f1ca4",
            "3181408a1dae4ebbac1938be11e452ee",
            "2618c4e998b340368e0fd9e7ea7459d0",
            "984db8840f2b4887ad2a639fa3ed8167",
            "1f4e8afe72304d86a42b04cea8305711",
            "2e990c32c97a4805bc70dd71cde53e98",
            "338437c1329f48789b18fae3faa7ac94",
            "72ed93b200594516953e57d430d508c5",
            "f6dceca6c0b0452fa70ec1ff7796bfea",
            "a3d709d5d53947e3a1f9fe0549d3533f",
            "44710e37a8a74c9aa47a41e110234ecb",
            "e250125baa8741fa982296a0d6d2283e"
          ]
        },
        "outputId": "7dff395a-8dde-4910-9212-8b5f263e6def"
      },
      "execution_count": null,
      "outputs": [
        {
          "output_type": "stream",
          "name": "stdout",
          "text": [
            "Downloading http://yann.lecun.com/exdb/mnist/train-images-idx3-ubyte.gz\n",
            "Downloading http://yann.lecun.com/exdb/mnist/train-images-idx3-ubyte.gz to dataset/MNIST/raw/train-images-idx3-ubyte.gz\n"
          ]
        },
        {
          "output_type": "display_data",
          "data": {
            "text/plain": [
              "  0%|          | 0/9912422 [00:00<?, ?it/s]"
            ],
            "application/vnd.jupyter.widget-view+json": {
              "version_major": 2,
              "version_minor": 0,
              "model_id": "e3856e38fc0a43dd9838198581e9b84b"
            }
          },
          "metadata": {}
        },
        {
          "output_type": "stream",
          "name": "stdout",
          "text": [
            "Extracting dataset/MNIST/raw/train-images-idx3-ubyte.gz to dataset/MNIST/raw\n",
            "\n",
            "Downloading http://yann.lecun.com/exdb/mnist/train-labels-idx1-ubyte.gz\n",
            "Downloading http://yann.lecun.com/exdb/mnist/train-labels-idx1-ubyte.gz to dataset/MNIST/raw/train-labels-idx1-ubyte.gz\n"
          ]
        },
        {
          "output_type": "display_data",
          "data": {
            "text/plain": [
              "  0%|          | 0/28881 [00:00<?, ?it/s]"
            ],
            "application/vnd.jupyter.widget-view+json": {
              "version_major": 2,
              "version_minor": 0,
              "model_id": "f2fb5dd06b2242c398ffc2f18fd0774c"
            }
          },
          "metadata": {}
        },
        {
          "output_type": "stream",
          "name": "stdout",
          "text": [
            "Extracting dataset/MNIST/raw/train-labels-idx1-ubyte.gz to dataset/MNIST/raw\n",
            "\n",
            "Downloading http://yann.lecun.com/exdb/mnist/t10k-images-idx3-ubyte.gz\n",
            "Downloading http://yann.lecun.com/exdb/mnist/t10k-images-idx3-ubyte.gz to dataset/MNIST/raw/t10k-images-idx3-ubyte.gz\n"
          ]
        },
        {
          "output_type": "display_data",
          "data": {
            "text/plain": [
              "  0%|          | 0/1648877 [00:00<?, ?it/s]"
            ],
            "application/vnd.jupyter.widget-view+json": {
              "version_major": 2,
              "version_minor": 0,
              "model_id": "6a5849cdfe83450a9a39f5890f79f5b4"
            }
          },
          "metadata": {}
        },
        {
          "output_type": "stream",
          "name": "stdout",
          "text": [
            "Extracting dataset/MNIST/raw/t10k-images-idx3-ubyte.gz to dataset/MNIST/raw\n",
            "\n",
            "Downloading http://yann.lecun.com/exdb/mnist/t10k-labels-idx1-ubyte.gz\n",
            "Downloading http://yann.lecun.com/exdb/mnist/t10k-labels-idx1-ubyte.gz to dataset/MNIST/raw/t10k-labels-idx1-ubyte.gz\n"
          ]
        },
        {
          "output_type": "display_data",
          "data": {
            "text/plain": [
              "  0%|          | 0/4542 [00:00<?, ?it/s]"
            ],
            "application/vnd.jupyter.widget-view+json": {
              "version_major": 2,
              "version_minor": 0,
              "model_id": "3181408a1dae4ebbac1938be11e452ee"
            }
          },
          "metadata": {}
        },
        {
          "output_type": "stream",
          "name": "stdout",
          "text": [
            "Extracting dataset/MNIST/raw/t10k-labels-idx1-ubyte.gz to dataset/MNIST/raw\n",
            "\n"
          ]
        }
      ]
    },
    {
      "cell_type": "code",
      "source": [
        "print(len(train_dataset)) \n",
        "print(len(test_dataset)) "
      ],
      "metadata": {
        "colab": {
          "base_uri": "https://localhost:8080/"
        },
        "id": "Is-0xzBfjFs-",
        "outputId": "9c10c4c8-c101-4324-d7b6-ebdc33aa210d"
      },
      "execution_count": null,
      "outputs": [
        {
          "output_type": "stream",
          "name": "stdout",
          "text": [
            "60000\n",
            "10000\n"
          ]
        }
      ]
    },
    {
      "cell_type": "code",
      "source": [
        "import matplotlib.pyplot as plt\n",
        "\n",
        "img, label = train_dataset[0]\n",
        "plt.title('{}'.format(label))\n",
        "plt.axis(\"off\")\n",
        "plt.imshow(img.squeeze(), cmap=\"gray\")\n",
        "plt.show()"
      ],
      "metadata": {
        "colab": {
          "base_uri": "https://localhost:8080/",
          "height": 264
        },
        "id": "Eki373oVjXDx",
        "outputId": "1940c2f8-20e4-4da3-e470-1129ba8de4ce"
      },
      "execution_count": null,
      "outputs": [
        {
          "output_type": "display_data",
          "data": {
            "text/plain": [
              "<Figure size 432x288 with 1 Axes>"
            ],
            "image/png": "[encoded data removed]"
          },
          "metadata": {
            "needs_background": "light"
          }
        }
      ]
    },
    {
      "cell_type": "markdown",
      "source": [
        "# **Make dataset iterable**"
      ],
      "metadata": {
        "id": "abIQ9E6nrp6C"
      }
    },
    {
      "cell_type": "markdown",
      "source": [
        "Because we have 60000 training samples (images), we need to split them up to small groups (batches) and pass these batches of samples to our feedforward neural network subsesquently.\n",
        "\n",
        "There are a few reasons why we split them into batches. Passing your whole dataset as a single batch would:\n",
        "\n",
        "(1) require a lot of RAM on your CPU/GPU and this might result in Out-of-Memory (OOM) errors.\n",
        "\n",
        "(2) cause unstable training if you just use all the errors accumulated in 60,000 images to update the model rather than gradually update the model. \n",
        "\n",
        "If we have 60,000 images and we want a batch size of 100, then we would have 600 iterations where each iteration involves passing 600 images to the model and getting their respective predictions.\n",
        "\n",
        "An epoch means that you have successfully passed the whole training set, 60,000 images, to the model. Continuing our example above, an epoch consists of 600 iterations.\n",
        "\n",
        "If we want to go through the whole dataset 5 times (5 epochs) for the model to learn, then we need 3000 iterations (600 x 5)"
      ],
      "metadata": {
        "id": "yy8PMylcx0V1"
      }
    },
    {
      "cell_type": "code",
      "source": [
        "batch = 60000 / 100\n",
        "print(batch)\n",
        "ep = 600 * 5\n",
        "print(ep)"
      ],
      "metadata": {
        "colab": {
          "base_uri": "https://localhost:8080/"
        },
        "id": "K-Bm5WI7f-HA",
        "outputId": "fba403f8-209c-483c-af29-4bdb22205a1e"
      },
      "execution_count": null,
      "outputs": [
        {
          "output_type": "stream",
          "name": "stdout",
          "text": [
            "600.0\n",
            "3000\n"
          ]
        }
      ]
    },
    {
      "cell_type": "code",
      "source": [
        "batch_size = 100\n",
        "n_iters = 3000\n",
        "num_epochs = n_iters / (len(train_dataset) / batch_size)\n",
        "num_epochs = int(num_epochs)\n",
        "\n",
        "train_loader = DataLoader(dataset=train_dataset, batch_size=batch_size, shuffle=True)\n",
        "test_loader = DataLoader(dataset=test_dataset, batch_size=batch_size, shuffle=False)"
      ],
      "metadata": {
        "id": "wVBVJdF2bqJz"
      },
      "execution_count": null,
      "outputs": []
    },
    {
      "cell_type": "markdown",
      "source": [
        "# **A simple Linear Model**"
      ],
      "metadata": {
        "id": "wd5o8vMrp6l8"
      }
    },
    {
      "cell_type": "code",
      "source": [
        "example_model = nn.Linear(50, 1) \n",
        "\n",
        "# The example_model object contains weights and biases of the model. By default, PyTorch initializes these values to a random number close to 0\n",
        "\n",
        "weight, bias = list(example_model.parameters()) \n",
        "\n",
        "# These values should be different from above\n",
        "print(weight)\n",
        "print(weight.shape)\n",
        "print(bias)\n",
        "print(bias.shape)"
      ],
      "metadata": {
        "colab": {
          "base_uri": "https://localhost:8080/"
        },
        "id": "nf3L7Orep5ei",
        "outputId": "44f761ee-102c-401b-ec26-f93ff4f06b12"
      },
      "execution_count": null,
      "outputs": [
        {
          "output_type": "stream",
          "name": "stdout",
          "text": [
            "Parameter containing:\n",
            "tensor([[ 0.1197,  0.1199, -0.0340, -0.0781, -0.0638, -0.1044,  0.1107, -0.1034,\n",
            "          0.1196, -0.1398, -0.1275,  0.0299, -0.0958,  0.1231,  0.0253, -0.0769,\n",
            "          0.0807, -0.0622,  0.0062,  0.0871,  0.1185,  0.0316, -0.1055, -0.0340,\n",
            "          0.1176,  0.0589, -0.1123,  0.0517, -0.1336,  0.0507,  0.0461, -0.1180,\n",
            "         -0.1077, -0.0562, -0.0414, -0.0381, -0.0783,  0.0602, -0.0654,  0.0927,\n",
            "          0.1257,  0.0866, -0.0099,  0.1111, -0.1408, -0.1342, -0.0860, -0.0814,\n",
            "         -0.0606, -0.0654]], requires_grad=True)\n",
            "torch.Size([1, 50])\n",
            "Parameter containing:\n",
            "tensor([-0.1129], requires_grad=True)\n",
            "torch.Size([1])\n"
          ]
        }
      ]
    },
    {
      "cell_type": "markdown",
      "source": [
        "# **Create Model Class**"
      ],
      "metadata": {
        "id": "0nZxtEMBHMwO"
      }
    },
    {
      "cell_type": "markdown",
      "source": [
        "![model1.png](data:image/png;base64,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)"
      ],
      "metadata": {
        "id": "HJO9eow3lOjj"
      }
    },
    {
      "cell_type": "code",
      "source": [
        "class FeedforwardNeuralNetModel(nn.Module):\n",
        "    def __init__(self, input_dim, hidden_dim, output_dim):\n",
        "        super(FeedforwardNeuralNetModel, self).__init__()\n",
        "        # Linear function\n",
        "        self.fc1 = nn.Linear(input_dim, hidden_dim) \n",
        "        # Non-linearity\n",
        "        self.sigmoid = nn.Sigmoid()\n",
        "        # Linear function (readout)\n",
        "        self.fc2 = nn.Linear(hidden_dim, output_dim)  \n",
        "    \n",
        "    def forward(self, x):\n",
        "        # Linear function  # LINEAR\n",
        "        out = self.fc1(x)\n",
        "        # Non-linearity  # NON-LINEAR\n",
        "        out = self.sigmoid(out)\n",
        "        # Linear function (readout)  # LINEAR\n",
        "        out = self.fc2(out)\n",
        "        return out"
      ],
      "metadata": {
        "id": "qAjl83sHb3PB"
      },
      "execution_count": null,
      "outputs": []
    },
    {
      "cell_type": "markdown",
      "source": [
        "# **Instantiate model class**\n",
        "Input dimension: 784\n",
        "\n",
        "Size of image: 28 x 28 =784\n",
        "\n",
        "Output dimension: 10\n",
        "\n",
        "0, 1, 2, 3, 4, 5, 6, 7, 8, 9\n",
        "\n",
        "Hidden dimension: 100 (Can be any number)\n",
        "\n",
        "Similar term:\n",
        "\n",
        "Number of neurons / Number of non-linear activation functions\n",
        "\n"
      ],
      "metadata": {
        "id": "aqzBXrtRhY7v"
      }
    },
    {
      "cell_type": "code",
      "source": [
        "input_dim = 28*28\n",
        "hidden_dim = 100\n",
        "output_dim = 10\n",
        "\n",
        "model = FeedforwardNeuralNetModel(input_dim, hidden_dim, output_dim)"
      ],
      "metadata": {
        "id": "qyHTfB94h8Yz"
      },
      "execution_count": null,
      "outputs": []
    },
    {
      "cell_type": "code",
      "source": [
        "# instantiate loss class\n",
        "\n",
        "criterion = nn.CrossEntropyLoss()"
      ],
      "metadata": {
        "id": "pzMmYSHJiebg"
      },
      "execution_count": null,
      "outputs": []
    },
    {
      "cell_type": "markdown",
      "source": [
        "# **Instantiate optimizer class**\n",
        "Simplified equation:\n",
        "\n",
        "    θ = θ - η × ∇θ\n",
        "\n",
        "θ: parameters (our tensors with gradient accumulation capabilities)\n",
        "\n",
        "η: learning rate (how fast we want to learn)\n",
        "\n",
        "∇θ: parameters' gradients\n",
        "\n",
        "Even simplier equation:\n",
        "\n",
        "    parameters = parameters - learning_rate * parameters_gradients\n",
        "    At every iteration, we update our model's parameters\n",
        "\n"
      ],
      "metadata": {
        "id": "zAuwcZJ9i8YW"
      }
    },
    {
      "cell_type": "code",
      "source": [
        "learning_rate = 0.1\n",
        "optimizer = torch.optim.SGD(model.parameters(), lr=learning_rate)  "
      ],
      "metadata": {
        "id": "bWhPThF0ild3"
      },
      "execution_count": null,
      "outputs": []
    },
    {
      "cell_type": "code",
      "source": [
        "# model parameters\n",
        "print(model.parameters())\n",
        "\n",
        "print(len(list(model.parameters())))\n",
        "\n",
        "# FC 1 Parameters \n",
        "print(list(model.parameters())[0].size())\n",
        "\n",
        "# FC 1 Bias Parameters\n",
        "print(list(model.parameters())[1].size())\n",
        "\n",
        "# FC 2 Parameters\n",
        "print(list(model.parameters())[2].size())\n",
        "\n",
        "# FC 2 Bias Parameters\n",
        "print(list(model.parameters())[3].size())"
      ],
      "metadata": {
        "colab": {
          "base_uri": "https://localhost:8080/"
        },
        "id": "u7ZZVnvui08H",
        "outputId": "35cdf1ba-95d7-4308-e51c-55f326ab2e63"
      },
      "execution_count": null,
      "outputs": [
        {
          "output_type": "stream",
          "name": "stdout",
          "text": [
            "<generator object Module.parameters at 0x7fe1c271fac0>\n",
            "4\n",
            "torch.Size([100, 784])\n",
            "torch.Size([100])\n",
            "torch.Size([10, 100])\n",
            "torch.Size([10])\n"
          ]
        }
      ]
    },
    {
      "cell_type": "markdown",
      "source": [
        "![image.png](data:image/png;base64,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)"
      ],
      "metadata": {
        "id": "cz0OuHYwmPcm"
      }
    },
    {
      "cell_type": "markdown",
      "source": [
        "# **Train Model**\n",
        "\n",
        "    Process\n",
        "        1. Convert inputs to tensors with gradient accumulation capabilities\n",
        "        2. Clear gradient buffers\n",
        "        3. Get output given inputs\n",
        "        4. Get loss\n",
        "        5. Get gradients w.r.t. parameters\n",
        "        6. Update parameters using gradients\n",
        "            parameters = parameters - learning_rate * parameters_gradients\n",
        "        7. REPEAT"
      ],
      "metadata": {
        "id": "LkFnZjIPqFWm"
      }
    },
    {
      "cell_type": "code",
      "source": [
        "iter = 0\n",
        "for epoch in range(num_epochs):\n",
        "    for i, (images, labels) in enumerate(train_loader):\n",
        "        # Load images with gradient accumulation capabilities\n",
        "        images = images.view(-1, 28*28).requires_grad_()\n",
        "        \n",
        "        # Clear gradients w.r.t. parameters\n",
        "        optimizer.zero_grad()\n",
        "        \n",
        "        # Forward pass to get output/logits\n",
        "        outputs = model(images)\n",
        "        \n",
        "        # Calculate Loss: softmax --> cross entropy loss\n",
        "        loss = criterion(outputs, labels)\n",
        "        \n",
        "        # Getting gradients w.r.t. parameters\n",
        "        loss.backward()\n",
        "        \n",
        "        # Updating parameters\n",
        "        optimizer.step()\n",
        "        \n",
        "        iter += 1\n",
        "        \n",
        "        if iter % 500 == 0:\n",
        "            # Calculate Accuracy         \n",
        "            correct = 0\n",
        "            total = 0\n",
        "            # Iterate through test dataset\n",
        "            for images, labels in test_loader:\n",
        "                # Load images with gradient accumulation capabilities\n",
        "                images = images.view(-1, 28*28).requires_grad_()\n",
        "                \n",
        "                # Forward pass only to get logits/output\n",
        "                outputs = model(images)\n",
        "                \n",
        "                # Get predictions from the maximum value\n",
        "                _, predicted = torch.max(outputs.data, 1)\n",
        "                \n",
        "                # Total number of labels\n",
        "                total += labels.size(0)\n",
        "                \n",
        "                # Total correct predictions\n",
        "                correct += (predicted == labels).sum()\n",
        "            \n",
        "            accuracy = 100 * correct / total\n",
        "            \n",
        "            # Print Loss\n",
        "            print('Iteration: {}. Loss: {}. Accuracy: {}'.format(iter, loss.item(), accuracy))"
      ],
      "metadata": {
        "colab": {
          "base_uri": "https://localhost:8080/"
        },
        "id": "EVFBqLv2qMEE",
        "outputId": "17d29406-1800-4512-c02c-22213f719b79"
      },
      "execution_count": null,
      "outputs": [
        {
          "output_type": "stream",
          "name": "stdout",
          "text": [
            "Iteration: 500. Loss: 0.6072381734848022. Accuracy: 86.25\n",
            "Iteration: 1000. Loss: 0.3938537538051605. Accuracy: 89.6500015258789\n",
            "Iteration: 1500. Loss: 0.25452321767807007. Accuracy: 90.5999984741211\n",
            "Iteration: 2000. Loss: 0.5062181949615479. Accuracy: 91.30999755859375\n",
            "Iteration: 2500. Loss: 0.28994256258010864. Accuracy: 91.62000274658203\n",
            "Iteration: 3000. Loss: 0.4172280430793762. Accuracy: 92.08000183105469\n"
          ]
        }
      ]
    },
    {
      "cell_type": "markdown",
      "source": [
        "# **Create Model Class using tanh function**"
      ],
      "metadata": {
        "id": "fzxxOvygrtON"
      }
    },
    {
      "cell_type": "code",
      "source": [
        "class FeedforwardNeuralNetModel(nn.Module):\n",
        "    def __init__(self, input_dim, hidden_dim, output_dim):\n",
        "        super(FeedforwardNeuralNetModel, self).__init__()\n",
        "        # Linear function\n",
        "        self.fc1 = nn.Linear(input_dim, hidden_dim) \n",
        "        # Non-linearity\n",
        "        self.tanh = nn.Tanh()\n",
        "        # Linear function (readout)\n",
        "        self.fc2 = nn.Linear(hidden_dim, output_dim)  \n",
        "    \n",
        "    def forward(self, x):\n",
        "        # Linear function\n",
        "        out = self.fc1(x)\n",
        "        # Non-linearity\n",
        "        out = self.tanh(out)\n",
        "        # Linear function (readout)\n",
        "        out = self.fc2(out)\n",
        "        return out"
      ],
      "metadata": {
        "id": "D5MhQI3RqZON"
      },
      "execution_count": null,
      "outputs": []
    },
    {
      "cell_type": "code",
      "source": [
        "'''\n",
        "INSTANTIATE MODEL CLASS\n",
        "'''\n",
        "input_dim = 28*28\n",
        "hidden_dim = 100\n",
        "output_dim = 10\n",
        "\n",
        "model = FeedforwardNeuralNetModel(input_dim, hidden_dim, output_dim)\n",
        "\n",
        "'''\n",
        "INSTANTIATE LOSS CLASS\n",
        "'''\n",
        "criterion = nn.CrossEntropyLoss()\n",
        "\n",
        "'''\n",
        "INSTANTIATE OPTIMIZER CLASS\n",
        "'''\n",
        "learning_rate = 0.1\n",
        "\n",
        "optimizer = torch.optim.SGD(model.parameters(), lr=learning_rate)\n",
        "\n",
        "'''\n",
        "TRAIN THE MODEL\n",
        "'''\n",
        "iter = 0\n",
        "for epoch in range(num_epochs):\n",
        "    for i, (images, labels) in enumerate(train_loader):\n",
        "        # Load images with gradient accumulation capabilities\n",
        "        images = images.view(-1, 28*28).requires_grad_()\n",
        "        \n",
        "        # Clear gradients w.r.t. parameters\n",
        "        optimizer.zero_grad()\n",
        "        \n",
        "        # Forward pass to get output/logits\n",
        "        outputs = model(images)\n",
        "        \n",
        "        # Calculate Loss: softmax --> cross entropy loss\n",
        "        loss = criterion(outputs, labels)\n",
        "        \n",
        "        # Getting gradients w.r.t. parameters\n",
        "        loss.backward()\n",
        "        \n",
        "        # Updating parameters\n",
        "        optimizer.step()\n",
        "        \n",
        "        iter += 1\n",
        "        \n",
        "        if iter % 500 == 0:\n",
        "            # Calculate Accuracy         \n",
        "            correct = 0\n",
        "            total = 0\n",
        "            # Iterate through test dataset\n",
        "            for images, labels in test_loader:\n",
        "                # Load images with gradient accumulation capabilities\n",
        "                images = images.view(-1, 28*28).requires_grad_()\n",
        "                \n",
        "                # Forward pass only to get logits/output\n",
        "                outputs = model(images)\n",
        "                \n",
        "                # Get predictions from the maximum value\n",
        "                _, predicted = torch.max(outputs.data, 1)\n",
        "                \n",
        "                # Total number of labels\n",
        "                total += labels.size(0)\n",
        "                \n",
        "                # Total correct predictions\n",
        "                correct += (predicted == labels).sum()\n",
        "            \n",
        "            accuracy = 100 * correct / total\n",
        "            \n",
        "            # Print Loss\n",
        "            print('Iteration: {}. Loss: {}. Accuracy: {}'.format(iter, loss.item(), accuracy))"
      ],
      "metadata": {
        "colab": {
          "base_uri": "https://localhost:8080/"
        },
        "id": "ahV1HfvarhcF",
        "outputId": "8da44f3d-c956-449d-8f0d-690f1c3d0c93"
      },
      "execution_count": null,
      "outputs": [
        {
          "output_type": "stream",
          "name": "stdout",
          "text": [
            "Iteration: 500. Loss: 0.4688204228878021. Accuracy: 91.47000122070312\n",
            "Iteration: 1000. Loss: 0.18852651119232178. Accuracy: 92.37000274658203\n",
            "Iteration: 1500. Loss: 0.2350984364748001. Accuracy: 93.55999755859375\n",
            "Iteration: 2000. Loss: 0.10043757408857346. Accuracy: 94.16000366210938\n",
            "Iteration: 2500. Loss: 0.1817885786294937. Accuracy: 94.61000061035156\n",
            "Iteration: 3000. Loss: 0.1064949780702591. Accuracy: 95.08999633789062\n"
          ]
        }
      ]
    },
    {
      "cell_type": "markdown",
      "source": [
        "# 2 Hidden Layer Feedforward Neural Network (ReLU Activation) with gpu"
      ],
      "metadata": {
        "id": "6Sc2SBHZrwcc"
      }
    },
    {
      "cell_type": "markdown",
      "source": [
        "Change runtime type to GPU\n"
      ],
      "metadata": {
        "id": "2ELONUP84j3z"
      }
    },
    {
      "cell_type": "code",
      "source": [
        "# Set device cuda for GPU if it's available otherwise run on the CPU\n",
        "device = torch.device(\"cuda\" if torch.cuda.is_available() else \"cpu\")\n",
        "print(device)"
      ],
      "metadata": {
        "colab": {
          "base_uri": "https://localhost:8080/"
        },
        "id": "0izssUGaIiM8",
        "outputId": "cf047273-c62f-4e68-bd38-b1e5e1c52bd5"
      },
      "execution_count": null,
      "outputs": [
        {
          "output_type": "stream",
          "name": "stdout",
          "text": [
            "cuda\n"
          ]
        }
      ]
    },
    {
      "cell_type": "code",
      "source": [
        "print(torch.cuda.device_count())\n",
        "print(torch.cuda.get_device_name(0))"
      ],
      "metadata": {
        "id": "4TgR_QkEInXC"
      },
      "execution_count": null,
      "outputs": []
    },
    {
      "cell_type": "code",
      "source": [
        "'''\n",
        "CREATE MODEL CLASS\n",
        "'''\n",
        "class FeedforwardNeuralNetModel(nn.Module):\n",
        "    def __init__(self, input_dim, hidden_dim, output_dim):\n",
        "        super(FeedforwardNeuralNetModel, self).__init__()\n",
        "        # Linear function 1: 784 --> 100\n",
        "        self.fc1 = nn.Linear(input_dim, hidden_dim) \n",
        "        # Non-linearity 1\n",
        "        self.relu1 = nn.ReLU()\n",
        "\n",
        "        # Linear function 2: 100 --> 100\n",
        "        self.fc2 = nn.Linear(hidden_dim, hidden_dim)\n",
        "        # Non-linearity 2\n",
        "        self.relu2 = nn.ReLU()\n",
        "\n",
        "        # Linear function 3 (readout): 100 --> 10\n",
        "        self.fc3 = nn.Linear(hidden_dim, output_dim)  \n",
        "\n",
        "    def forward(self, x):\n",
        "        # Linear function 1\n",
        "        out = self.fc1(x)\n",
        "        # Non-linearity 1\n",
        "        out = self.relu1(out)\n",
        "\n",
        "        # Linear function 2\n",
        "        out = self.fc2(out)\n",
        "        # Non-linearity 2\n",
        "        out = self.relu2(out)\n",
        "\n",
        "        # Linear function 3 (readout)\n",
        "        out = self.fc3(out)\n",
        "        return out"
      ],
      "metadata": {
        "id": "RLWW5xfpsfLN"
      },
      "execution_count": null,
      "outputs": []
    },
    {
      "cell_type": "code",
      "source": [
        "'''\n",
        "INSTANTIATE MODEL CLASS\n",
        "'''\n",
        "input_dim = 28*28\n",
        "hidden_dim = 100\n",
        "output_dim = 10\n",
        "\n",
        "model = FeedforwardNeuralNetModel(input_dim, hidden_dim, output_dim)\n",
        "model.to(device)\n",
        "'''\n",
        "INSTANTIATE LOSS CLASS\n",
        "'''\n",
        "criterion = nn.CrossEntropyLoss()\n",
        "\n",
        "\n",
        "'''\n",
        "INSTANTIATE OPTIMIZER CLASS\n",
        "'''\n",
        "learning_rate = 0.1\n",
        "\n",
        "optimizer = torch.optim.SGD(model.parameters(), lr=learning_rate)"
      ],
      "metadata": {
        "id": "hFZdkKHqsrv8"
      },
      "execution_count": null,
      "outputs": []
    },
    {
      "cell_type": "code",
      "source": [
        "total_size = len(train_loader)\n",
        "print(total_size)\n",
        "# Train the model\n",
        "for epoch in range(num_epochs):\n",
        "    for i,(images,labels) in enumerate(train_loader,0):\n",
        "        images = images.view(-1, 28*28).requires_grad_().to(device)\n",
        "        labels = labels.to(device)\n",
        "\n",
        "        # Clear gradients w.r.t parameters\n",
        "        optimizer.zero_grad()\n",
        "        \n",
        "        # Forward pass to get ouputs/logits\n",
        "        outputs = model(images)\n",
        "\n",
        "        # Calculate loss\n",
        "        loss = criterion(outputs,labels)\n",
        "        \n",
        "        # Getting gradients w.r.t parameters        \n",
        "        loss.backward()\n",
        "\n",
        "        # Updating parameters\n",
        "        optimizer.step()\n",
        "        \n",
        "        if (i+1)%500==0:\n",
        "            print(\"Epoch {}/{} : Loss {:.4f}\".format(epoch+1,num_epochs,loss))"
      ],
      "metadata": {
        "colab": {
          "base_uri": "https://localhost:8080/"
        },
        "id": "9_k7nX8o0B2C",
        "outputId": "0805e2e3-3a6c-4b81-821c-5e58f8715e12"
      },
      "execution_count": null,
      "outputs": [
        {
          "output_type": "stream",
          "name": "stdout",
          "text": [
            "600\n",
            "Epoch 1/5 : Loss 0.3209\n",
            "Epoch 2/5 : Loss 0.2861\n",
            "Epoch 3/5 : Loss 0.3514\n",
            "Epoch 4/5 : Loss 0.0818\n",
            "Epoch 5/5 : Loss 0.0655\n",
            "600\n",
            "Epoch 1/5 : Loss 0.1825\n",
            "Epoch 2/5 : Loss 0.0457\n",
            "Epoch 3/5 : Loss 0.0598\n",
            "Epoch 4/5 : Loss 0.0804\n",
            "Epoch 5/5 : Loss 0.0420\n"
          ]
        }
      ]
    },
    {
      "cell_type": "code",
      "source": [
        "# test the model\n",
        "with torch.no_grad():\n",
        "    correct = 0.0\n",
        "    total = 0.0\n",
        "    for images, labels in test_loader:\n",
        "        images = images.reshape(-1, 28*28).requires_grad_().to(device)\n",
        "        labels = labels.to(device)\n",
        "        outputs = model(images)\n",
        "        _,prediction = torch.max(outputs,1)\n",
        "        total += labels.size(0)\n",
        "        correct += (prediction==labels).sum()\n",
        "    print(\"Accuracy : {:.2f}\".format((correct*100.0)/total))"
      ],
      "metadata": {
        "colab": {
          "base_uri": "https://localhost:8080/"
        },
        "id": "lPxlzXvh0ECi",
        "outputId": "1c2caf56-f601-47d0-b153-e516c67df154"
      },
      "execution_count": null,
      "outputs": [
        {
          "output_type": "stream",
          "name": "stdout",
          "text": [
            "Accuracy : 97.59\n"
          ]
        }
      ]
    },
    {
      "cell_type": "markdown",
      "source": [
        "# **Summary:**\n",
        "\n",
        "Feedforward Neural Network Models\n",
        "\n",
        "    Model: 1 hidden layer (sigmoid activation)\n",
        "    Model: 1 hidden layer (tanh activation)\n",
        "    Model: 2 hidden layers (ReLU activation) with GPU\n",
        "\n",
        "Models Variation in Code\n",
        "\n",
        "    Modifying only step 3\n",
        "\n"
      ],
      "metadata": {
        "id": "J6bd7yvDtJzL"
      }
    },
    {
      "cell_type": "markdown",
      "source": [
        "## For more details visit, (https://pytorch.org/tutorials/beginner/basics/buildmodel_tutorial.html)"
      ],
      "metadata": {
        "id": "04tFFqqo1AuR"
      }
    },
    {
      "cell_type": "markdown",
      "source": [
        "# Activity:\n",
        "  \n",
        "    Use CIFAR-10 dataset and build a model with 5 hidden layers and activation as relu"
      ],
      "metadata": {
        "id": "9QvRdxro1blh"
      }
    }
  ]
}